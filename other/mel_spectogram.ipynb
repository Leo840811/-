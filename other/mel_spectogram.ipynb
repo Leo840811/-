{
 "cells": [
  {
   "cell_type": "code",
   "execution_count": null,
   "id": "19c74892",
   "metadata": {},
   "outputs": [],
   "source": [
    "import librosa\n",
    "import numpy as np\n",
    "from IPython.display import Audio  #播放套件\n",
    "import matplotlib.pyplot as plt \n",
    "import librosa.display  #libroso 繪圖\n",
    "import time\n",
    "import os, re\n",
    "from os import listdir\n",
    "from os.path import isfile, join"
   ]
  },
  {
   "cell_type": "code",
   "execution_count": null,
   "id": "84e8de9d",
   "metadata": {},
   "outputs": [],
   "source": [
    "#載入音檔，給檔案路徑\n",
    "y, sr = librosa.load('./musicfile/3s/blues/blues1-1-0.wav', sr=22050, duration=60) #sr:採樣率 (一般音樂 44100Hz/s ,官方建議用 22050分析資料 )\n",
    "S = np.abs(librosa.stft(y))\n",
    "melspectrogram1 = librosa.feature.melspectrogram(S=S, sr=sr)"
   ]
  },
  {
   "cell_type": "code",
   "execution_count": null,
   "id": "63a92f0f",
   "metadata": {},
   "outputs": [],
   "source": [
    "import pandas as pd\n",
    "df = pd.DataFrame(melspectrogram1)\n",
    "df"
   ]
  },
  {
   "cell_type": "code",
   "execution_count": null,
   "id": "018327fd",
   "metadata": {},
   "outputs": [],
   "source": [
    "y, sr = librosa.load('./musicfile/3s/blues/blues1-1-1.wav', sr=22050, duration=60) #sr:採樣率 (一般音樂 44100Hz/s ,官方建議用 22050分析資料 )\n",
    "S = np.abs(librosa.stft(y))\n",
    "melspectrogram2 = librosa.feature.melspectrogram(S=S, sr=sr)"
   ]
  },
  {
   "cell_type": "code",
   "execution_count": null,
   "id": "4f6c0806",
   "metadata": {},
   "outputs": [],
   "source": [
    "np_genre = np.empty((0, 128, 130))"
   ]
  },
  {
   "cell_type": "code",
   "execution_count": null,
   "id": "90d46704",
   "metadata": {},
   "outputs": [],
   "source": [
    "melspectrogram1 = np.expand_dims(melspectrogram1, axis = 0)"
   ]
  },
  {
   "cell_type": "code",
   "execution_count": null,
   "id": "2b6b9faf",
   "metadata": {},
   "outputs": [],
   "source": [
    "np_genre = np.append(np_genre,melspectrogram1, axis=0)\n",
    "np_genre.shape"
   ]
  },
  {
   "cell_type": "code",
   "execution_count": null,
   "id": "bc9d1cd5",
   "metadata": {},
   "outputs": [],
   "source": [
    "np1 = np.array(melspectrogram1)\n",
    "np1 = np.expand_dims(np1, axis = 0)\n",
    "print(np1.shape)\n",
    "\n",
    "np2 = np.array(melspectrogram2)\n",
    "np2 = np.expand_dims(np2, axis = 0)\n",
    "print(np2.shape)"
   ]
  },
  {
   "cell_type": "code",
   "execution_count": null,
   "id": "ed5ff688",
   "metadata": {},
   "outputs": [],
   "source": [
    "np_genre = np.append(np1,np2, axis=0)\n",
    "np_genre.shape"
   ]
  },
  {
   "cell_type": "code",
   "execution_count": null,
   "id": "8c321eb4",
   "metadata": {},
   "outputs": [],
   "source": [
    "np1.shape"
   ]
  },
  {
   "cell_type": "code",
   "execution_count": null,
   "id": "5ee27957",
   "metadata": {},
   "outputs": [],
   "source": [
    "np_genre.shape"
   ]
  },
  {
   "cell_type": "code",
   "execution_count": null,
   "id": "6babbacc",
   "metadata": {},
   "outputs": [],
   "source": [
    "def get_mel(genre):\n",
    "    path = './musicfile/3s/%s/' %(genre)\n",
    "    id = 1  # Song ID\n",
    "    df_mel = pd.DataFrame()\n",
    "    X_spect = np.empty((0, 128, 130))\n",
    "    genres = []\n",
    "    dict_genres = {'blues':1, 'classical':2, 'country':3, 'disco':4, \n",
    "               'hiphop':5,'jazz':6, 'metal' :7, 'pop': 8 ,'reggae': 9 ,'rock':10,'test':11}\n",
    "    file_data = [f for f in listdir(path) if isfile (join(path, f))]\n",
    "    \n",
    "    for line in file_data:\n",
    "        if ( line[-1:] == '\\n' ):   # 從換行前面取黨檔名\n",
    "            line = line[:-1]\n",
    "\n",
    "        songname = path + line # 將 目錄路徑跟檔名 合併成 檔案路徑\n",
    "        y, sr = librosa.load(songname, sr=22050, duration=60) # 用 librosa讀取檔案\n",
    "        S = np.abs(librosa.stft(y)) # 傅立葉轉換取振幅\n",
    "        melspectrogram = librosa.feature.melspectrogram(S=S, sr=sr)\n",
    "        melspectrogram = np.expand_dims(melspectrogram, axis = 0)\n",
    "        X_spect = np.append(X_spect,melspectrogram, axis=0)\n",
    "        genres.append(dict_genres[genre])\n",
    "        id = id+1\n",
    "            \n",
    "    y_arr = np.array(genres)\n",
    "#     print(X_spect)\n",
    "    print(X_spect.shape)"
   ]
  },
  {
   "cell_type": "code",
   "execution_count": null,
   "id": "1e6edfa5",
   "metadata": {},
   "outputs": [],
   "source": [
    "start = time.perf_counter()\n",
    "\n",
    "genre = 'test'\n",
    "get_mel(genre)\n",
    "\n",
    "print(\"This time is being calculated\")\n",
    "\n",
    "end = time.perf_counter()\n",
    "\n",
    "print(end - start)"
   ]
  },
  {
   "cell_type": "code",
   "execution_count": null,
   "id": "75aec886",
   "metadata": {},
   "outputs": [],
   "source": [
    "import os\n",
    "\n",
    "directory_list = list()\n",
    "for root, dirs, files in os.walk(\"./musicfile/3s/\", topdown=False):\n",
    "    for name in dirs:\n",
    "        directory_list.append(name)\n",
    "\n",
    "print(directory_list)"
   ]
  },
  {
   "cell_type": "code",
   "execution_count": null,
   "id": "9a7ede27",
   "metadata": {
    "scrolled": true
   },
   "outputs": [],
   "source": [
    "start = time.perf_counter()\n",
    "\n",
    "id = 1  # Song ID\n",
    "# df_mel = pd.DataFrame()\n",
    "X_spect = np.empty((0, 128, 130))\n",
    "genres = []\n",
    "dict_genres = {'blues':1, 'classical':2, 'country':3, 'disco':4, \n",
    "           'hiphop':5,'jazz':6, 'metal' :7, 'pop': 8 ,'reggae': 9 ,'rock':10}\n",
    "directory_list = list()\n",
    "for root, dirs, files in os.walk(\"./musicfile/3s/\", topdown=False):\n",
    "    for name in dirs:\n",
    "        path = './musicfile/3s/%s/' %(name)\n",
    "\n",
    "        file_data = [f for f in listdir(path) if isfile (join(path, f))]\n",
    "\n",
    "        for line in file_data:\n",
    "            if ( line[-1:] == '\\n' ):   # 從換行前面取黨檔名\n",
    "                line = line[:-1]\n",
    "\n",
    "            songname = path + line # 將 目錄路徑跟檔名 合併成 檔案路徑\n",
    "            y, sr = librosa.load(songname, sr=22050, duration=60) # 用 librosa讀取檔案\n",
    "            S = np.abs(librosa.stft(y)) # 傅立葉轉換取振幅\n",
    "            melspectrogram = librosa.feature.melspectrogram(S=S, sr=sr)\n",
    "            melspectrogram = np.expand_dims(melspectrogram, axis = 0)\n",
    "            X_spect = np.append(X_spect,melspectrogram, axis=0)\n",
    "            genres.append(dict_genres[name])\n",
    "            print(songname)\n",
    "            id = id+1\n",
    "\n",
    "        y_arr = np.array(genres)\n",
    "\n",
    "print(y_arr.shape)\n",
    "print(X_spect.shape)\n",
    "\n",
    "\n",
    "print(\"This time is being calculated\")\n",
    "\n",
    "end = time.perf_counter()\n",
    "\n",
    "print(end - start)"
   ]
  },
  {
   "cell_type": "code",
   "execution_count": null,
   "id": "689bd049",
   "metadata": {},
   "outputs": [],
   "source": [
    "np.savez('df_arr', X_spect, y_arr)"
   ]
  },
  {
   "cell_type": "code",
   "execution_count": null,
   "id": "7e4806f3",
   "metadata": {},
   "outputs": [],
   "source": [
    "npzfile = np.load('df_arr.npz')\n",
    "print(npzfile.files)\n",
    "X = npzfile['arr_0']\n",
    "y = npzfile['arr_1']\n",
    "print(X.shape, y.shape)"
   ]
  },
  {
   "cell_type": "code",
   "execution_count": null,
   "id": "02dba730",
   "metadata": {},
   "outputs": [],
   "source": [
    "y = y-1\n",
    "y"
   ]
  },
  {
   "cell_type": "code",
   "execution_count": null,
   "id": "a48df7e5",
   "metadata": {},
   "outputs": [],
   "source": [
    "np.savez('df_zero_arr', X, y)"
   ]
  }
 ],
 "metadata": {
  "kernelspec": {
   "display_name": "Python 3 (ipykernel)",
   "language": "python",
   "name": "python3"
  },
  "language_info": {
   "codemirror_mode": {
    "name": "ipython",
    "version": 3
   },
   "file_extension": ".py",
   "mimetype": "text/x-python",
   "name": "python",
   "nbconvert_exporter": "python",
   "pygments_lexer": "ipython3",
   "version": "3.9.12"
  }
 },
 "nbformat": 4,
 "nbformat_minor": 5
}
