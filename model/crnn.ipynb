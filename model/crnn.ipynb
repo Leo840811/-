{
 "cells": [
  {
   "cell_type": "code",
   "execution_count": 44,
   "id": "19c74892",
   "metadata": {},
   "outputs": [],
   "source": [
    "import numpy as np\n",
    "import matplotlib.pyplot as plt \n",
    "import os, re\n",
    "from os import listdir\n",
    "from os.path import isfile, join"
   ]
  },
  {
   "cell_type": "code",
   "execution_count": 45,
   "id": "22aa3960",
   "metadata": {},
   "outputs": [],
   "source": [
    "from sklearn.model_selection import train_test_split\n",
    "import keras\n",
    "from keras.models import Sequential, load_model, Model\n",
    "from keras.layers import Dense, Dropout, Activation, Flatten, ELU, LSTM, TimeDistributed,Input\n",
    "import matplotlib.pyplot as plt\n",
    "from keras.layers import Conv1D, MaxPooling1D, Flatten, Conv2D, BatchNormalization, Lambda, MaxPooling2D\n",
    "from keras.callbacks import ModelCheckpoint, TensorBoard, ReduceLROnPlateau, EarlyStopping\n",
    "from keras import backend\n",
    "from keras.utils import np_utils\n",
    "from keras.optimizers import Adam, RMSprop\n",
    "from keras import regularizers\n",
    "from sklearn.metrics import confusion_matrix\n",
    "import seaborn as sns"
   ]
  },
  {
   "cell_type": "code",
   "execution_count": 46,
   "id": "53c14f13",
   "metadata": {},
   "outputs": [
    {
     "name": "stdout",
     "output_type": "stream",
     "text": [
      "['arr_0', 'arr_1']\n",
      "(36480, 128, 130) (36480,)\n"
     ]
    }
   ],
   "source": [
    "npzfile = np.load('df_zero_arr.npz')\n",
    "print(npzfile.files)\n",
    "X = npzfile['arr_0']\n",
    "y = npzfile['arr_1']\n",
    "print(X.shape, y.shape)"
   ]
  },
  {
   "cell_type": "code",
   "execution_count": 47,
   "id": "deff2421",
   "metadata": {},
   "outputs": [
    {
     "data": {
      "text/plain": [
       "(36480, 10)"
      ]
     },
     "execution_count": 47,
     "metadata": {},
     "output_type": "execute_result"
    }
   ],
   "source": [
    "y_onehot = np.eye(10)[y]\n",
    "y_onehot.shape"
   ]
  },
  {
   "cell_type": "code",
   "execution_count": 48,
   "id": "9376b9f0",
   "metadata": {},
   "outputs": [
    {
     "data": {
      "text/plain": [
       "(36480, 130, 128)"
      ]
     },
     "execution_count": 48,
     "metadata": {},
     "output_type": "execute_result"
    }
   ],
   "source": [
    "X = X.swapaxes(1,2)\n",
    "X.shape"
   ]
  },
  {
   "cell_type": "code",
   "execution_count": 43,
   "id": "7fb96289",
   "metadata": {},
   "outputs": [
    {
     "data": {
      "text/plain": [
       "(36480, 130, 128, 1)"
      ]
     },
     "execution_count": 43,
     "metadata": {},
     "output_type": "execute_result"
    }
   ],
   "source": [
    "# X = X.reshape(36480, 130, 128, 1)\n",
    "# X.shape"
   ]
  },
  {
   "cell_type": "code",
   "execution_count": 49,
   "id": "0843ead6",
   "metadata": {},
   "outputs": [
    {
     "data": {
      "text/plain": [
       "(29184, 10)"
      ]
     },
     "execution_count": 49,
     "metadata": {},
     "output_type": "execute_result"
    }
   ],
   "source": [
    "X_train, X_test, y_train, y_test = train_test_split(X, y_onehot, test_size=0.2, random_state=42)\n",
    "y_train.shape"
   ]
  },
  {
   "cell_type": "code",
   "execution_count": 53,
   "id": "24388841",
   "metadata": {
    "scrolled": true
   },
   "outputs": [
    {
     "name": "stdout",
     "output_type": "stream",
     "text": [
      "Model: \"sequential_11\"\n",
      "_________________________________________________________________\n",
      " Layer (type)                Output Shape              Param #   \n",
      "=================================================================\n",
      " conv1d_24 (Conv1D)          (None, None, 64)          41024     \n",
      "                                                                 \n",
      " batch_normalization_25 (Bat  (None, None, 64)         256       \n",
      " chNormalization)                                                \n",
      "                                                                 \n",
      " activation_25 (Activation)  (None, None, 64)          0         \n",
      "                                                                 \n",
      " max_pooling1d_25 (MaxPoolin  (None, None, 64)         0         \n",
      " g1D)                                                            \n",
      "                                                                 \n",
      " dropout_40 (Dropout)        (None, None, 64)          0         \n",
      "                                                                 \n",
      " conv1d_25 (Conv1D)          (None, None, 64)          20544     \n",
      "                                                                 \n",
      " batch_normalization_26 (Bat  (None, None, 64)         256       \n",
      " chNormalization)                                                \n",
      "                                                                 \n",
      " activation_26 (Activation)  (None, None, 64)          0         \n",
      "                                                                 \n",
      " max_pooling1d_26 (MaxPoolin  (None, None, 64)         0         \n",
      " g1D)                                                            \n",
      "                                                                 \n",
      " dropout_41 (Dropout)        (None, None, 64)          0         \n",
      "                                                                 \n",
      " conv1d_26 (Conv1D)          (None, None, 64)          20544     \n",
      "                                                                 \n",
      " batch_normalization_27 (Bat  (None, None, 64)         256       \n",
      " chNormalization)                                                \n",
      "                                                                 \n",
      " activation_27 (Activation)  (None, None, 64)          0         \n",
      "                                                                 \n",
      " max_pooling1d_27 (MaxPoolin  (None, None, 64)         0         \n",
      " g1D)                                                            \n",
      "                                                                 \n",
      " dropout_42 (Dropout)        (None, None, 64)          0         \n",
      "                                                                 \n",
      " lstm_8 (LSTM)               (None, 96)                61824     \n",
      "                                                                 \n",
      " dropout_43 (Dropout)        (None, 96)                0         \n",
      "                                                                 \n",
      " dense_15 (Dense)            (None, 64)                6208      \n",
      "                                                                 \n",
      " dropout_44 (Dropout)        (None, 64)                0         \n",
      "                                                                 \n",
      " dense_16 (Dense)            (None, 10)                650       \n",
      "                                                                 \n",
      " output_realtime (Activation  (None, 10)               0         \n",
      " )                                                               \n",
      "                                                                 \n",
      "=================================================================\n",
      "Total params: 151,562\n",
      "Trainable params: 151,178\n",
      "Non-trainable params: 384\n",
      "_________________________________________________________________\n",
      "None\n",
      "Epoch 1/200\n",
      "456/456 [==============================] - 16s 30ms/step - loss: 1.7312 - accuracy: 0.4850 - val_loss: 1.3480 - val_accuracy: 0.6275 - lr: 0.0010\n",
      "Epoch 2/200\n",
      "456/456 [==============================] - 13s 29ms/step - loss: 1.3108 - accuracy: 0.6373 - val_loss: 1.0653 - val_accuracy: 0.7119 - lr: 0.0010\n",
      "Epoch 3/200\n",
      "456/456 [==============================] - 14s 31ms/step - loss: 1.1651 - accuracy: 0.6797 - val_loss: 1.1318 - val_accuracy: 0.6987 - lr: 0.0010\n",
      "Epoch 4/200\n",
      "456/456 [==============================] - 15s 32ms/step - loss: 1.0695 - accuracy: 0.7112 - val_loss: 0.9549 - val_accuracy: 0.7377 - lr: 0.0010\n",
      "Epoch 5/200\n",
      "456/456 [==============================] - 14s 31ms/step - loss: 1.0017 - accuracy: 0.7321 - val_loss: 0.8691 - val_accuracy: 0.7675 - lr: 0.0010\n",
      "Epoch 6/200\n",
      "456/456 [==============================] - 14s 31ms/step - loss: 0.9616 - accuracy: 0.7450 - val_loss: 0.9047 - val_accuracy: 0.7614 - lr: 0.0010\n",
      "Epoch 7/200\n",
      "456/456 [==============================] - 14s 31ms/step - loss: 0.9217 - accuracy: 0.7577 - val_loss: 0.7599 - val_accuracy: 0.8048 - lr: 0.0010\n",
      "Epoch 8/200\n",
      "456/456 [==============================] - 14s 31ms/step - loss: 0.8801 - accuracy: 0.7700 - val_loss: 0.7293 - val_accuracy: 0.8125 - lr: 0.0010\n",
      "Epoch 9/200\n",
      "456/456 [==============================] - 14s 32ms/step - loss: 0.8593 - accuracy: 0.7787 - val_loss: 0.7616 - val_accuracy: 0.8050 - lr: 0.0010\n",
      "Epoch 10/200\n",
      "456/456 [==============================] - 15s 32ms/step - loss: 0.8470 - accuracy: 0.7802 - val_loss: 0.7118 - val_accuracy: 0.8252 - lr: 0.0010\n",
      "Epoch 11/200\n",
      "456/456 [==============================] - 15s 32ms/step - loss: 0.8198 - accuracy: 0.7902 - val_loss: 0.7437 - val_accuracy: 0.8133 - lr: 0.0010\n",
      "Epoch 12/200\n",
      "456/456 [==============================] - 15s 32ms/step - loss: 0.8143 - accuracy: 0.7953 - val_loss: 0.7512 - val_accuracy: 0.8110 - lr: 0.0010\n",
      "Epoch 13/200\n",
      "456/456 [==============================] - 15s 33ms/step - loss: 0.8065 - accuracy: 0.7963 - val_loss: 0.7156 - val_accuracy: 0.8222 - lr: 0.0010\n",
      "Epoch 14/200\n",
      "456/456 [==============================] - 15s 32ms/step - loss: 0.7814 - accuracy: 0.8069 - val_loss: 0.6546 - val_accuracy: 0.8414 - lr: 0.0010\n",
      "Epoch 15/200\n",
      "456/456 [==============================] - 14s 32ms/step - loss: 0.7844 - accuracy: 0.8056 - val_loss: 0.7014 - val_accuracy: 0.8353 - lr: 0.0010\n",
      "Epoch 16/200\n",
      "456/456 [==============================] - 14s 31ms/step - loss: 0.7719 - accuracy: 0.8106 - val_loss: 0.7259 - val_accuracy: 0.8232 - lr: 0.0010\n",
      "Epoch 17/200\n",
      "456/456 [==============================] - 14s 31ms/step - loss: 0.7590 - accuracy: 0.8156 - val_loss: 0.6548 - val_accuracy: 0.8483 - lr: 0.0010\n",
      "Epoch 18/200\n",
      "456/456 [==============================] - 14s 31ms/step - loss: 0.7659 - accuracy: 0.8126 - val_loss: 0.7368 - val_accuracy: 0.8288 - lr: 0.0010\n",
      "Epoch 19/200\n",
      "456/456 [==============================] - 14s 32ms/step - loss: 0.7534 - accuracy: 0.8180 - val_loss: 0.6495 - val_accuracy: 0.8518 - lr: 0.0010\n",
      "Epoch 20/200\n",
      "456/456 [==============================] - 14s 32ms/step - loss: 0.7558 - accuracy: 0.8172 - val_loss: 0.6665 - val_accuracy: 0.8431 - lr: 0.0010\n",
      "Epoch 21/200\n",
      "456/456 [==============================] - 15s 32ms/step - loss: 0.7500 - accuracy: 0.8182 - val_loss: 0.6728 - val_accuracy: 0.8403 - lr: 0.0010\n",
      "Epoch 22/200\n",
      "456/456 [==============================] - 14s 32ms/step - loss: 0.7362 - accuracy: 0.8209 - val_loss: 0.6508 - val_accuracy: 0.8468 - lr: 0.0010\n",
      "Epoch 23/200\n",
      "456/456 [==============================] - 14s 32ms/step - loss: 0.7421 - accuracy: 0.8213 - val_loss: 0.6040 - val_accuracy: 0.8701 - lr: 0.0010\n",
      "Epoch 24/200\n",
      "456/456 [==============================] - 14s 31ms/step - loss: 0.7349 - accuracy: 0.8264 - val_loss: 0.7626 - val_accuracy: 0.8192 - lr: 0.0010\n",
      "Epoch 25/200\n",
      "456/456 [==============================] - 14s 32ms/step - loss: 0.7265 - accuracy: 0.8280 - val_loss: 0.6660 - val_accuracy: 0.8517 - lr: 0.0010\n",
      "Epoch 26/200\n",
      "456/456 [==============================] - 14s 31ms/step - loss: 0.7215 - accuracy: 0.8288 - val_loss: 0.6184 - val_accuracy: 0.8607 - lr: 0.0010\n",
      "Epoch 27/200\n",
      "456/456 [==============================] - 14s 31ms/step - loss: 0.7260 - accuracy: 0.8306 - val_loss: 0.6138 - val_accuracy: 0.8617 - lr: 0.0010\n",
      "Epoch 28/200\n",
      "456/456 [==============================] - 14s 31ms/step - loss: 0.7166 - accuracy: 0.8330 - val_loss: 0.5770 - val_accuracy: 0.8751 - lr: 0.0010\n",
      "Epoch 29/200\n"
     ]
    },
    {
     "name": "stdout",
     "output_type": "stream",
     "text": [
      "456/456 [==============================] - 14s 31ms/step - loss: 0.7026 - accuracy: 0.8360 - val_loss: 0.5868 - val_accuracy: 0.8686 - lr: 0.0010\n",
      "Epoch 30/200\n",
      "456/456 [==============================] - 15s 32ms/step - loss: 0.7204 - accuracy: 0.8335 - val_loss: 0.6338 - val_accuracy: 0.8575 - lr: 0.0010\n",
      "Epoch 31/200\n",
      "456/456 [==============================] - 15s 32ms/step - loss: 0.7156 - accuracy: 0.8317 - val_loss: 0.6019 - val_accuracy: 0.8695 - lr: 0.0010\n",
      "Epoch 32/200\n",
      "456/456 [==============================] - 14s 31ms/step - loss: 0.7082 - accuracy: 0.8372 - val_loss: 0.6653 - val_accuracy: 0.8457 - lr: 0.0010\n",
      "Epoch 33/200\n",
      "455/456 [============================>.] - ETA: 0s - loss: 0.7117 - accuracy: 0.8364\n",
      "Epoch 33: ReduceLROnPlateau reducing learning rate to 0.0005000000237487257.\n",
      "456/456 [==============================] - 14s 32ms/step - loss: 0.7117 - accuracy: 0.8364 - val_loss: 0.6066 - val_accuracy: 0.8669 - lr: 0.0010\n",
      "Epoch 34/200\n",
      "456/456 [==============================] - 15s 32ms/step - loss: 0.6360 - accuracy: 0.8579 - val_loss: 0.5378 - val_accuracy: 0.8898 - lr: 5.0000e-04\n",
      "Epoch 35/200\n",
      "456/456 [==============================] - 14s 32ms/step - loss: 0.6126 - accuracy: 0.8625 - val_loss: 0.5324 - val_accuracy: 0.8920 - lr: 5.0000e-04\n",
      "Epoch 36/200\n",
      "456/456 [==============================] - 15s 33ms/step - loss: 0.6043 - accuracy: 0.8648 - val_loss: 0.5075 - val_accuracy: 0.8968 - lr: 5.0000e-04\n",
      "Epoch 37/200\n",
      "456/456 [==============================] - 15s 33ms/step - loss: 0.5912 - accuracy: 0.8655 - val_loss: 0.5594 - val_accuracy: 0.8790 - lr: 5.0000e-04\n",
      "Epoch 38/200\n",
      "456/456 [==============================] - 15s 32ms/step - loss: 0.5807 - accuracy: 0.8693 - val_loss: 0.5293 - val_accuracy: 0.8834 - lr: 5.0000e-04\n",
      "Epoch 39/200\n",
      "456/456 [==============================] - 15s 32ms/step - loss: 0.5738 - accuracy: 0.8715 - val_loss: 0.5207 - val_accuracy: 0.8865 - lr: 5.0000e-04\n",
      "Epoch 40/200\n",
      "456/456 [==============================] - 15s 32ms/step - loss: 0.5731 - accuracy: 0.8700 - val_loss: 0.5435 - val_accuracy: 0.8765 - lr: 5.0000e-04\n",
      "Epoch 41/200\n",
      "456/456 [==============================] - 15s 32ms/step - loss: 0.5646 - accuracy: 0.8727 - val_loss: 0.4840 - val_accuracy: 0.8951 - lr: 5.0000e-04\n",
      "Epoch 42/200\n",
      "456/456 [==============================] - 15s 32ms/step - loss: 0.5690 - accuracy: 0.8701 - val_loss: 0.5054 - val_accuracy: 0.8853 - lr: 5.0000e-04\n",
      "Epoch 43/200\n",
      "456/456 [==============================] - 14s 32ms/step - loss: 0.5630 - accuracy: 0.8713 - val_loss: 0.4858 - val_accuracy: 0.8962 - lr: 5.0000e-04\n",
      "Epoch 44/200\n",
      "455/456 [============================>.] - ETA: 0s - loss: 0.5609 - accuracy: 0.8716\n",
      "Epoch 44: ReduceLROnPlateau reducing learning rate to 0.0002500000118743628.\n",
      "456/456 [==============================] - 15s 32ms/step - loss: 0.5616 - accuracy: 0.8714 - val_loss: 0.4949 - val_accuracy: 0.8943 - lr: 5.0000e-04\n",
      "Epoch 45/200\n",
      "456/456 [==============================] - 14s 32ms/step - loss: 0.5220 - accuracy: 0.8835 - val_loss: 0.4531 - val_accuracy: 0.9071 - lr: 2.5000e-04\n",
      "Epoch 46/200\n",
      "456/456 [==============================] - 14s 32ms/step - loss: 0.5004 - accuracy: 0.8888 - val_loss: 0.4420 - val_accuracy: 0.9076 - lr: 2.5000e-04\n",
      "Epoch 47/200\n",
      "456/456 [==============================] - 14s 32ms/step - loss: 0.4925 - accuracy: 0.8901 - val_loss: 0.4402 - val_accuracy: 0.9054 - lr: 2.5000e-04\n",
      "Epoch 48/200\n",
      "456/456 [==============================] - 14s 32ms/step - loss: 0.4980 - accuracy: 0.8883 - val_loss: 0.4604 - val_accuracy: 0.8978 - lr: 2.5000e-04\n",
      "Epoch 49/200\n",
      "456/456 [==============================] - 14s 32ms/step - loss: 0.4811 - accuracy: 0.8935 - val_loss: 0.4373 - val_accuracy: 0.9068 - lr: 2.5000e-04\n",
      "Epoch 50/200\n",
      "456/456 [==============================] - 15s 33ms/step - loss: 0.4757 - accuracy: 0.8930 - val_loss: 0.4270 - val_accuracy: 0.9071 - lr: 2.5000e-04\n",
      "Epoch 51/200\n",
      "456/456 [==============================] - 15s 33ms/step - loss: 0.4767 - accuracy: 0.8932 - val_loss: 0.4220 - val_accuracy: 0.9100 - lr: 2.5000e-04\n",
      "Epoch 52/200\n",
      "456/456 [==============================] - 15s 32ms/step - loss: 0.4817 - accuracy: 0.8912 - val_loss: 0.4358 - val_accuracy: 0.9072 - lr: 2.5000e-04\n",
      "Epoch 53/200\n",
      "456/456 [==============================] - 15s 33ms/step - loss: 0.4678 - accuracy: 0.8957 - val_loss: 0.4102 - val_accuracy: 0.9123 - lr: 2.5000e-04\n",
      "Epoch 54/200\n",
      "456/456 [==============================] - 18s 40ms/step - loss: 0.4685 - accuracy: 0.8933 - val_loss: 0.4457 - val_accuracy: 0.9034 - lr: 2.5000e-04\n",
      "Epoch 55/200\n",
      "455/456 [============================>.] - ETA: 0s - loss: 0.4622 - accuracy: 0.8953\n",
      "Epoch 55: ReduceLROnPlateau reducing learning rate to 0.0001250000059371814.\n",
      "456/456 [==============================] - 15s 33ms/step - loss: 0.4626 - accuracy: 0.8953 - val_loss: 0.4185 - val_accuracy: 0.9095 - lr: 2.5000e-04\n",
      "Epoch 56/200\n",
      "456/456 [==============================] - 15s 34ms/step - loss: 0.4431 - accuracy: 0.9008 - val_loss: 0.4122 - val_accuracy: 0.9108 - lr: 1.2500e-04\n",
      "Epoch 57/200\n",
      "456/456 [==============================] - 15s 34ms/step - loss: 0.4333 - accuracy: 0.9053 - val_loss: 0.3985 - val_accuracy: 0.9149 - lr: 1.2500e-04\n",
      "Epoch 58/200\n",
      "456/456 [==============================] - 20s 45ms/step - loss: 0.4285 - accuracy: 0.9051 - val_loss: 0.3940 - val_accuracy: 0.9172 - lr: 1.2500e-04\n",
      "Epoch 59/200\n",
      "456/456 [==============================] - 27s 60ms/step - loss: 0.4258 - accuracy: 0.9059 - val_loss: 0.3962 - val_accuracy: 0.9143 - lr: 1.2500e-04\n",
      "Epoch 60/200\n",
      "456/456 [==============================] - 14s 32ms/step - loss: 0.4187 - accuracy: 0.9071 - val_loss: 0.3901 - val_accuracy: 0.9163 - lr: 1.2500e-04\n",
      "Epoch 61/200\n",
      "456/456 [==============================] - 14s 32ms/step - loss: 0.4156 - accuracy: 0.9062 - val_loss: 0.4076 - val_accuracy: 0.9120 - lr: 1.2500e-04\n",
      "Epoch 62/200\n",
      "456/456 [==============================] - 14s 32ms/step - loss: 0.4195 - accuracy: 0.9070 - val_loss: 0.3973 - val_accuracy: 0.9156 - lr: 1.2500e-04\n",
      "Epoch 63/200\n",
      "456/456 [==============================] - 15s 32ms/step - loss: 0.4119 - accuracy: 0.9067 - val_loss: 0.4035 - val_accuracy: 0.9117 - lr: 1.2500e-04\n",
      "Epoch 64/200\n",
      "456/456 [==============================] - 15s 32ms/step - loss: 0.4109 - accuracy: 0.9086 - val_loss: 0.3982 - val_accuracy: 0.9154 - lr: 1.2500e-04\n",
      "Epoch 65/200\n",
      "456/456 [==============================] - 15s 32ms/step - loss: 0.4184 - accuracy: 0.9067 - val_loss: 0.4231 - val_accuracy: 0.9080 - lr: 1.2500e-04\n",
      "Epoch 66/200\n",
      "456/456 [==============================] - 14s 32ms/step - loss: 0.4087 - accuracy: 0.9090 - val_loss: 0.3830 - val_accuracy: 0.9154 - lr: 1.2500e-04\n",
      "Epoch 67/200\n",
      "456/456 [==============================] - 14s 32ms/step - loss: 0.4067 - accuracy: 0.9100 - val_loss: 0.3943 - val_accuracy: 0.9143 - lr: 1.2500e-04\n",
      "Epoch 68/200\n",
      "455/456 [============================>.] - ETA: 0s - loss: 0.4098 - accuracy: 0.9085\n",
      "Epoch 68: ReduceLROnPlateau reducing learning rate to 6.25000029685907e-05.\n",
      "456/456 [==============================] - 14s 32ms/step - loss: 0.4104 - accuracy: 0.9084 - val_loss: 0.3768 - val_accuracy: 0.9174 - lr: 1.2500e-04\n",
      "Epoch 69/200\n",
      "456/456 [==============================] - 15s 33ms/step - loss: 0.3905 - accuracy: 0.9147 - val_loss: 0.3778 - val_accuracy: 0.9168 - lr: 6.2500e-05\n",
      "Epoch 70/200\n",
      "456/456 [==============================] - 14s 32ms/step - loss: 0.3977 - accuracy: 0.9118 - val_loss: 0.3820 - val_accuracy: 0.9176 - lr: 6.2500e-05\n",
      "Epoch 71/200\n",
      "456/456 [==============================] - 14s 32ms/step - loss: 0.3883 - accuracy: 0.9130 - val_loss: 0.3805 - val_accuracy: 0.9176 - lr: 6.2500e-05\n",
      "Epoch 72/200\n",
      "456/456 [==============================] - 15s 32ms/step - loss: 0.3888 - accuracy: 0.9142 - val_loss: 0.3754 - val_accuracy: 0.9200 - lr: 6.2500e-05\n",
      "Epoch 73/200\n",
      "456/456 [==============================] - 15s 32ms/step - loss: 0.3851 - accuracy: 0.9145 - val_loss: 0.3759 - val_accuracy: 0.9195 - lr: 6.2500e-05\n",
      "Epoch 74/200\n",
      "456/456 [==============================] - 15s 32ms/step - loss: 0.3853 - accuracy: 0.9146 - val_loss: 0.3622 - val_accuracy: 0.9228 - lr: 6.2500e-05\n",
      "Epoch 75/200\n"
     ]
    },
    {
     "name": "stdout",
     "output_type": "stream",
     "text": [
      "456/456 [==============================] - 15s 33ms/step - loss: 0.3849 - accuracy: 0.9137 - val_loss: 0.3774 - val_accuracy: 0.9208 - lr: 6.2500e-05\n",
      "Epoch 76/200\n",
      "456/456 [==============================] - 15s 32ms/step - loss: 0.3783 - accuracy: 0.9166 - val_loss: 0.3611 - val_accuracy: 0.9238 - lr: 6.2500e-05\n",
      "Epoch 77/200\n",
      "456/456 [==============================] - 15s 32ms/step - loss: 0.3764 - accuracy: 0.9199 - val_loss: 0.3844 - val_accuracy: 0.9171 - lr: 6.2500e-05\n",
      "Epoch 78/200\n",
      "455/456 [============================>.] - ETA: 0s - loss: 0.3823 - accuracy: 0.9140\n",
      "Epoch 78: ReduceLROnPlateau reducing learning rate to 3.125000148429535e-05.\n",
      "456/456 [==============================] - 15s 32ms/step - loss: 0.3823 - accuracy: 0.9140 - val_loss: 0.3743 - val_accuracy: 0.9200 - lr: 6.2500e-05\n",
      "Epoch 79/200\n",
      "456/456 [==============================] - 15s 32ms/step - loss: 0.3727 - accuracy: 0.9174 - val_loss: 0.3616 - val_accuracy: 0.9205 - lr: 3.1250e-05\n",
      "Epoch 80/200\n",
      "456/456 [==============================] - 15s 33ms/step - loss: 0.3653 - accuracy: 0.9200 - val_loss: 0.3656 - val_accuracy: 0.9205 - lr: 3.1250e-05\n",
      "Epoch 81/200\n",
      "456/456 [==============================] - 15s 33ms/step - loss: 0.3662 - accuracy: 0.9196 - val_loss: 0.3535 - val_accuracy: 0.9252 - lr: 3.1250e-05\n",
      "Epoch 82/200\n",
      "456/456 [==============================] - 15s 32ms/step - loss: 0.3768 - accuracy: 0.9171 - val_loss: 0.3609 - val_accuracy: 0.9216 - lr: 3.1250e-05\n",
      "Epoch 83/200\n",
      "456/456 [==============================] - 15s 32ms/step - loss: 0.3665 - accuracy: 0.9206 - val_loss: 0.3588 - val_accuracy: 0.9226 - lr: 3.1250e-05\n",
      "Epoch 84/200\n",
      "456/456 [==============================] - 15s 32ms/step - loss: 0.3646 - accuracy: 0.9194 - val_loss: 0.3616 - val_accuracy: 0.9219 - lr: 3.1250e-05\n",
      "Epoch 85/200\n",
      "456/456 [==============================] - 15s 32ms/step - loss: 0.3663 - accuracy: 0.9204 - val_loss: 0.3661 - val_accuracy: 0.9227 - lr: 3.1250e-05\n",
      "Epoch 86/200\n",
      "456/456 [==============================] - 15s 32ms/step - loss: 0.3691 - accuracy: 0.9167 - val_loss: 0.3644 - val_accuracy: 0.9211 - lr: 3.1250e-05\n",
      "Epoch 87/200\n",
      "456/456 [==============================] - 15s 32ms/step - loss: 0.3655 - accuracy: 0.9191 - val_loss: 0.3547 - val_accuracy: 0.9267 - lr: 3.1250e-05\n",
      "Epoch 88/200\n",
      "455/456 [============================>.] - ETA: 0s - loss: 0.3615 - accuracy: 0.9221\n",
      "Epoch 88: ReduceLROnPlateau reducing learning rate to 1.5625000742147677e-05.\n",
      "456/456 [==============================] - 15s 32ms/step - loss: 0.3617 - accuracy: 0.9221 - val_loss: 0.3613 - val_accuracy: 0.9234 - lr: 3.1250e-05\n",
      "Epoch 89/200\n",
      "456/456 [==============================] - 15s 32ms/step - loss: 0.3579 - accuracy: 0.9207 - val_loss: 0.3614 - val_accuracy: 0.9230 - lr: 1.5625e-05\n",
      "Epoch 90/200\n",
      "456/456 [==============================] - 15s 32ms/step - loss: 0.3557 - accuracy: 0.9219 - val_loss: 0.3568 - val_accuracy: 0.9234 - lr: 1.5625e-05\n",
      "Epoch 91/200\n",
      "456/456 [==============================] - 14s 32ms/step - loss: 0.3616 - accuracy: 0.9199 - val_loss: 0.3552 - val_accuracy: 0.9253 - lr: 1.5625e-05\n",
      "Epoch 92/200\n",
      "456/456 [==============================] - 15s 32ms/step - loss: 0.3518 - accuracy: 0.9228 - val_loss: 0.3625 - val_accuracy: 0.9223 - lr: 1.5625e-05\n",
      "Epoch 93/200\n",
      "456/456 [==============================] - 14s 32ms/step - loss: 0.3592 - accuracy: 0.9200 - val_loss: 0.3535 - val_accuracy: 0.9243 - lr: 1.5625e-05\n",
      "Epoch 94/200\n",
      "456/456 [==============================] - 15s 32ms/step - loss: 0.3549 - accuracy: 0.9220 - val_loss: 0.3586 - val_accuracy: 0.9241 - lr: 1.5625e-05\n",
      "Epoch 95/200\n",
      "456/456 [==============================] - 14s 32ms/step - loss: 0.3541 - accuracy: 0.9229 - val_loss: 0.3609 - val_accuracy: 0.9239 - lr: 1.5625e-05\n",
      "Epoch 96/200\n",
      "456/456 [==============================] - 14s 32ms/step - loss: 0.3549 - accuracy: 0.9214 - val_loss: 0.3550 - val_accuracy: 0.9239 - lr: 1.5625e-05\n",
      "Epoch 97/200\n",
      "456/456 [==============================] - 14s 32ms/step - loss: 0.3534 - accuracy: 0.9234 - val_loss: 0.3581 - val_accuracy: 0.9253 - lr: 1.5625e-05\n",
      "Epoch 97: early stopping\n"
     ]
    }
   ],
   "source": [
    "BATCH_SIZE = 64\n",
    "num_classes = 10\n",
    "FILTER_LENGTH = 5\n",
    "CONV_FILTER_COUNT = 64\n",
    "LSTM_COUNT = 96\n",
    "EPOCH_COUNT = 200\n",
    "NUM_HIDDEN = 64\n",
    "L2_regularization = 0.001\n",
    "\n",
    "model = Sequential()\n",
    "model.add(Conv1D(input_shape=(None,128),filters=CONV_FILTER_COUNT,\n",
    "                kernel_size=FILTER_LENGTH,\n",
    "                kernel_regularizer=regularizers.l2(L2_regularization)))\n",
    "model.add(BatchNormalization(momentum=0.9))\n",
    "model.add(Activation('relu'))\n",
    "model.add(MaxPooling1D(2))\n",
    "model.add(Dropout(0.4))\n",
    "\n",
    "model.add(Conv1D(filters=CONV_FILTER_COUNT,\n",
    "                kernel_size=FILTER_LENGTH,\n",
    "                kernel_regularizer=regularizers.l2(L2_regularization)))\n",
    "model.add(BatchNormalization(momentum=0.9))\n",
    "model.add(Activation('relu'))\n",
    "model.add(MaxPooling1D(2))\n",
    "model.add(Dropout(0.4))\n",
    "\n",
    "model.add(Conv1D(filters=CONV_FILTER_COUNT,\n",
    "                kernel_size=FILTER_LENGTH,\n",
    "                kernel_regularizer=regularizers.l2(L2_regularization)))\n",
    "model.add(BatchNormalization(momentum=0.9))\n",
    "model.add(Activation('relu'))\n",
    "model.add(MaxPooling1D(2))\n",
    "model.add(Dropout(0.4))\n",
    "\n",
    "model.add(LSTM(LSTM_COUNT, return_sequences=False))\n",
    "model.add(Dropout(0.4))\n",
    "model.add(Dense(NUM_HIDDEN, kernel_regularizer=regularizers.l2(L2_regularization)))\n",
    "model.add(Dropout(0.4))\n",
    "model.add(Dense(num_classes))\n",
    "model.add(Activation('softmax', name='output_realtime'))\n",
    "\n",
    "\n",
    "\n",
    "# initiate Adam optimizer\n",
    "opt = Adam(lr=0.001)\n",
    "\n",
    "# Let's train the model using Adam\n",
    "model.compile(\n",
    "            loss='categorical_crossentropy',\n",
    "            optimizer=opt,\n",
    "            metrics=['accuracy']\n",
    "        )\n",
    "\n",
    "print(model.summary())\n",
    "\n",
    "\n",
    "earlystop = EarlyStopping(monitor='val_accuracy', patience=10, verbose=1, mode='max')\n",
    "\n",
    "reducelr_callback = ReduceLROnPlateau(\n",
    "                monitor='val_loss', factor=0.5, patience=10, min_delta=0.01,\n",
    "                verbose=1, mode='min'\n",
    "            )\n",
    "\n",
    "model_history = model.fit(X_train, \n",
    "                          y_train,\n",
    "                          batch_size=BATCH_SIZE,\n",
    "                    epochs=EPOCH_COUNT,\n",
    "                    validation_data=(X_test, y_test),\n",
    "                    workers=4,\n",
    "                    callbacks=[earlystop,reducelr_callback])\n"
   ]
  },
  {
   "cell_type": "code",
   "execution_count": 54,
   "id": "a65af5b7",
   "metadata": {},
   "outputs": [],
   "source": [
    "model.save('./models/crnn/crnnmodel64bs.h5')"
   ]
  },
  {
   "cell_type": "code",
   "execution_count": 57,
   "id": "8949a9b1",
   "metadata": {},
   "outputs": [
    {
     "data": {
      "image/png": "[encoded data removed]",
      "text/plain": [
       "<Figure size 432x288 with 1 Axes>"
      ]
     },
     "metadata": {
      "needs_background": "light"
     },
     "output_type": "display_data"
    },
    {
     "data": {
      "image/png": "[encoded data removed]",
      "text/plain": [
       "<Figure size 432x288 with 1 Axes>"
      ]
     },
     "metadata": {
      "needs_background": "light"
     },
     "output_type": "display_data"
    }
   ],
   "source": [
    "training_loss = model_history.history['loss']\n",
    "val_loss = model_history.history['val_loss']\n",
    "\n",
    "plt.plot(training_loss, label=\"training_loss\")\n",
    "plt.plot(val_loss, label=\"validation_loss\")\n",
    "plt.xlabel(\"Epochs\")\n",
    "plt.ylabel(\"Loss\")\n",
    "plt.title(\"model loss\")\n",
    "plt.legend(loc='upper left')\n",
    "plt.show()\n",
    "\n",
    "training_loss = model_history.history['accuracy']\n",
    "val_loss = model_history.history['val_accuracy']\n",
    "\n",
    "plt.plot(training_loss, label=\"training_loss\")\n",
    "plt.plot(val_loss, label=\"validation_loss\")\n",
    "plt.xlabel(\"Epochs\")\n",
    "plt.ylabel(\"accuracy\")\n",
    "plt.title(\"model accuracy\")\n",
    "plt.legend([\"train\", \"test\"], loc=\"upper left\")\n",
    "plt.show()"
   ]
  },
  {
   "cell_type": "code",
   "execution_count": 59,
   "id": "57339a05",
   "metadata": {},
   "outputs": [],
   "source": [
    "dict_genres = {'blues':0, 'classical':1, 'country':2, 'disco':3, \n",
    "           'hiphop':4,'jazz':5, 'metal' :6, 'pop': 7 ,'reggae': 8 ,'rock':9}"
   ]
  },
  {
   "cell_type": "code",
   "execution_count": 60,
   "id": "ff28b6f2",
   "metadata": {},
   "outputs": [
    {
     "name": "stdout",
     "output_type": "stream",
     "text": [
      "228/228 [==============================] - 3s 14ms/step\n",
      "(7296,) (7296,)\n",
      "              precision    recall  f1-score   support\n",
      "\n",
      "       blues       0.91      0.93      0.92       901\n",
      "   classical       0.86      0.99      0.92       865\n",
      "     country       0.89      0.86      0.87       500\n",
      "       disco       0.99      0.97      0.98       714\n",
      "      hiphop       0.95      0.88      0.91       457\n",
      "        jazz       0.93      0.96      0.94       827\n",
      "       metal       0.94      0.96      0.95       981\n",
      "         pop       0.90      0.81      0.86       481\n",
      "      reggae       0.97      0.95      0.96       660\n",
      "        rock       0.92      0.85      0.89       910\n",
      "\n",
      "    accuracy                           0.93      7296\n",
      "   macro avg       0.93      0.92      0.92      7296\n",
      "weighted avg       0.93      0.93      0.92      7296\n",
      "\n"
     ]
    }
   ],
   "source": [
    "from sklearn.metrics import classification_report\n",
    "\n",
    "y_true = np.argmax(y_test, axis = 1)\n",
    "y_pred = model.predict(X_test)\n",
    "y_pred = np.argmax(y_pred, axis=1)\n",
    "labels = [0,1,2,3,4,5,6,7,8,9]\n",
    "target_names = dict_genres.keys()\n",
    "\n",
    "print(y_true.shape, y_pred.shape)\n",
    "print(classification_report(y_true, y_pred, target_names=target_names))"
   ]
  },
  {
   "cell_type": "code",
   "execution_count": 62,
   "id": "6ae6fdf0",
   "metadata": {},
   "outputs": [
    {
     "data": {
      "image/png": "[encoded data removed]",
      "text/plain": [
       "<Figure size 432x288 with 1 Axes>"
      ]
     },
     "metadata": {
      "needs_background": "light"
     },
     "output_type": "display_data"
    }
   ],
   "source": [
    "mat = confusion_matrix(y_true, y_pred)\n",
    "sns.heatmap(mat.T, square=True, annot=True, fmt='d', cbar=False,\n",
    "            xticklabels=dict_genres.keys(),\n",
    "            yticklabels=dict_genres.keys())\n",
    "plt.xlabel('true label')\n",
    "plt.ylabel('predicted label');"
   ]
  },
  {
   "cell_type": "code",
   "execution_count": null,
   "id": "e6c2178d",
   "metadata": {},
   "outputs": [],
   "source": []
  }
 ],
 "metadata": {
  "kernelspec": {
   "display_name": "Python 3 (ipykernel)",
   "language": "python",
   "name": "python3"
  },
  "language_info": {
   "codemirror_mode": {
    "name": "ipython",
    "version": 3
   },
   "file_extension": ".py",
   "mimetype": "text/x-python",
   "name": "python",
   "nbconvert_exporter": "python",
   "pygments_lexer": "ipython3",
   "version": "3.8.13"
  }
 },
 "nbformat": 4,
 "nbformat_minor": 5
}
