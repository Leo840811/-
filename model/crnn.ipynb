{
 "cells": [
  {
   "cell_type": "code",
   "execution_count": 1,
   "id": "19c74892",
   "metadata": {},
   "outputs": [],
   "source": [
    "import numpy as np\n",
    "import matplotlib.pyplot as plt \n",
    "import os, re\n",
    "from os import listdir\n",
    "from os.path import isfile, join"
   ]
  },
  {
   "cell_type": "code",
   "execution_count": 2,
   "id": "22aa3960",
   "metadata": {},
   "outputs": [],
   "source": [
    "from sklearn.model_selection import train_test_split\n",
    "import keras\n",
    "from keras.models import Sequential, load_model, Model\n",
    "from keras.layers import Dense, Dropout, Activation, Flatten, ELU, LSTM, TimeDistributed,Input\n",
    "import matplotlib.pyplot as plt\n",
    "from keras.layers import Conv1D, MaxPooling1D, Flatten, Conv2D, BatchNormalization, Lambda, MaxPooling2D\n",
    "from keras.callbacks import ModelCheckpoint, TensorBoard, ReduceLROnPlateau, EarlyStopping\n",
    "from keras import backend\n",
    "from keras.utils import np_utils\n",
    "from keras.optimizers import Adam, RMSprop\n",
    "from keras import regularizers\n",
    "from sklearn.metrics import confusion_matrix\n",
    "import seaborn as sns"
   ]
  },
  {
   "cell_type": "code",
   "execution_count": 3,
   "id": "53c14f13",
   "metadata": {},
   "outputs": [
    {
     "name": "stdout",
     "output_type": "stream",
     "text": [
      "['arr_0', 'arr_1']\n",
      "(36480, 128, 130) (36480,)\n"
     ]
    }
   ],
   "source": [
    "npzfile = np.load('df_zero_arr.npz')\n",
    "print(npzfile.files)\n",
    "X = npzfile['arr_0']\n",
    "y = npzfile['arr_1']\n",
    "print(X.shape, y.shape)"
   ]
  },
  {
   "cell_type": "code",
   "execution_count": 4,
   "id": "deff2421",
   "metadata": {},
   "outputs": [
    {
     "data": {
      "text/plain": [
       "(36480, 10)"
      ]
     },
     "execution_count": 4,
     "metadata": {},
     "output_type": "execute_result"
    }
   ],
   "source": [
    "y_onehot = np.eye(10)[y]\n",
    "y_onehot.shape"
   ]
  },
  {
   "cell_type": "code",
   "execution_count": 5,
   "id": "9376b9f0",
   "metadata": {},
   "outputs": [
    {
     "data": {
      "text/plain": [
       "(36480, 130, 128)"
      ]
     },
     "execution_count": 5,
     "metadata": {},
     "output_type": "execute_result"
    }
   ],
   "source": [
    "X = X.swapaxes(1,2)\n",
    "X.shape"
   ]
  },
  {
   "cell_type": "code",
   "execution_count": 6,
   "id": "0843ead6",
   "metadata": {},
   "outputs": [
    {
     "data": {
      "text/plain": [
       "(29184, 10)"
      ]
     },
     "execution_count": 6,
     "metadata": {},
     "output_type": "execute_result"
    }
   ],
   "source": [
    "X_train, X_test, y_train, y_test = train_test_split(X, y_onehot, test_size=0.2, random_state=42)\n",
    "y_train.shape"
   ]
  },
  {
   "cell_type": "code",
   "execution_count": 11,
   "id": "24388841",
   "metadata": {
    "scrolled": true
   },
   "outputs": [
    {
     "name": "stdout",
     "output_type": "stream",
     "text": [
      "Model: \"sequential_4\"\n",
      "_________________________________________________________________\n",
      " Layer (type)                Output Shape              Param #   \n",
      "=================================================================\n",
      " conv1d_12 (Conv1D)          (None, None, 64)          41024     \n",
      "                                                                 \n",
      " batch_normalization_12 (Bat  (None, None, 64)         256       \n",
      " chNormalization)                                                \n",
      "                                                                 \n",
      " activation_12 (Activation)  (None, None, 64)          0         \n",
      "                                                                 \n",
      " max_pooling1d_12 (MaxPoolin  (None, None, 64)         0         \n",
      " g1D)                                                            \n",
      "                                                                 \n",
      " dropout_20 (Dropout)        (None, None, 64)          0         \n",
      "                                                                 \n",
      " conv1d_13 (Conv1D)          (None, None, 128)         41088     \n",
      "                                                                 \n",
      " batch_normalization_13 (Bat  (None, None, 128)        512       \n",
      " chNormalization)                                                \n",
      "                                                                 \n",
      " activation_13 (Activation)  (None, None, 128)         0         \n",
      "                                                                 \n",
      " max_pooling1d_13 (MaxPoolin  (None, None, 128)        0         \n",
      " g1D)                                                            \n",
      "                                                                 \n",
      " dropout_21 (Dropout)        (None, None, 128)         0         \n",
      "                                                                 \n",
      " conv1d_14 (Conv1D)          (None, None, 64)          41024     \n",
      "                                                                 \n",
      " batch_normalization_14 (Bat  (None, None, 64)         256       \n",
      " chNormalization)                                                \n",
      "                                                                 \n",
      " activation_14 (Activation)  (None, None, 64)          0         \n",
      "                                                                 \n",
      " max_pooling1d_14 (MaxPoolin  (None, None, 64)         0         \n",
      " g1D)                                                            \n",
      "                                                                 \n",
      " dropout_22 (Dropout)        (None, None, 64)          0         \n",
      "                                                                 \n",
      " lstm_4 (LSTM)               (None, 96)                61824     \n",
      "                                                                 \n",
      " dropout_23 (Dropout)        (None, 96)                0         \n",
      "                                                                 \n",
      " dense_8 (Dense)             (None, 64)                6208      \n",
      "                                                                 \n",
      " dropout_24 (Dropout)        (None, 64)                0         \n",
      "                                                                 \n",
      " dense_9 (Dense)             (None, 10)                650       \n",
      "                                                                 \n",
      " output_realtime (Activation  (None, 10)               0         \n",
      " )                                                               \n",
      "                                                                 \n",
      "=================================================================\n",
      "Total params: 192,842\n",
      "Trainable params: 192,330\n",
      "Non-trainable params: 512\n",
      "_________________________________________________________________\n",
      "None\n",
      "Epoch 1/500\n",
      "456/456 [==============================] - 26s 52ms/step - loss: 1.7171 - accuracy: 0.5080 - val_loss: 1.5384 - val_accuracy: 0.5592 - lr: 0.0010\n",
      "Epoch 2/500\n",
      "456/456 [==============================] - 21s 47ms/step - loss: 1.2994 - accuracy: 0.6527 - val_loss: 1.0626 - val_accuracy: 0.7130 - lr: 0.0010\n",
      "Epoch 3/500\n",
      "456/456 [==============================] - 21s 47ms/step - loss: 1.1392 - accuracy: 0.7001 - val_loss: 0.9363 - val_accuracy: 0.7544 - lr: 0.0010\n",
      "Epoch 4/500\n",
      "456/456 [==============================] - 21s 47ms/step - loss: 1.0467 - accuracy: 0.7263 - val_loss: 0.8692 - val_accuracy: 0.7802 - lr: 0.0010\n",
      "Epoch 5/500\n",
      "456/456 [==============================] - 21s 47ms/step - loss: 0.9791 - accuracy: 0.7476 - val_loss: 0.8361 - val_accuracy: 0.7914 - lr: 0.0010\n",
      "Epoch 6/500\n",
      "456/456 [==============================] - 21s 47ms/step - loss: 0.9272 - accuracy: 0.7646 - val_loss: 0.8207 - val_accuracy: 0.7882 - lr: 0.0010\n",
      "Epoch 7/500\n",
      "456/456 [==============================] - 21s 47ms/step - loss: 0.9023 - accuracy: 0.7713 - val_loss: 0.7914 - val_accuracy: 0.8052 - lr: 0.0010\n",
      "Epoch 8/500\n",
      "456/456 [==============================] - 21s 47ms/step - loss: 0.8769 - accuracy: 0.7823 - val_loss: 0.7434 - val_accuracy: 0.8228 - lr: 0.0010\n",
      "Epoch 9/500\n",
      "456/456 [==============================] - 21s 47ms/step - loss: 0.8570 - accuracy: 0.7880 - val_loss: 0.7729 - val_accuracy: 0.8026 - lr: 0.0010\n",
      "Epoch 10/500\n",
      "456/456 [==============================] - 21s 47ms/step - loss: 0.8332 - accuracy: 0.7978 - val_loss: 0.7820 - val_accuracy: 0.8043 - lr: 0.0010\n",
      "Epoch 11/500\n",
      "456/456 [==============================] - 21s 47ms/step - loss: 0.8197 - accuracy: 0.7991 - val_loss: 0.7762 - val_accuracy: 0.8111 - lr: 0.0010\n",
      "Epoch 12/500\n",
      "456/456 [==============================] - 22s 47ms/step - loss: 0.8145 - accuracy: 0.8018 - val_loss: 0.6663 - val_accuracy: 0.8473 - lr: 0.0010\n",
      "Epoch 13/500\n",
      "456/456 [==============================] - 21s 47ms/step - loss: 0.7991 - accuracy: 0.8094 - val_loss: 0.6656 - val_accuracy: 0.8490 - lr: 0.0010\n",
      "Epoch 14/500\n",
      "456/456 [==============================] - 21s 47ms/step - loss: 0.7913 - accuracy: 0.8117 - val_loss: 0.6684 - val_accuracy: 0.8443 - lr: 0.0010\n",
      "Epoch 15/500\n",
      "456/456 [==============================] - 21s 47ms/step - loss: 0.7716 - accuracy: 0.8208 - val_loss: 0.7464 - val_accuracy: 0.8289 - lr: 0.0010\n",
      "Epoch 16/500\n",
      "456/456 [==============================] - 21s 47ms/step - loss: 0.7713 - accuracy: 0.8200 - val_loss: 0.6205 - val_accuracy: 0.8643 - lr: 0.0010\n",
      "Epoch 17/500\n",
      "456/456 [==============================] - 21s 47ms/step - loss: 0.7723 - accuracy: 0.8186 - val_loss: 0.7051 - val_accuracy: 0.8405 - lr: 0.0010\n",
      "Epoch 18/500\n",
      "456/456 [==============================] - 22s 48ms/step - loss: 0.7654 - accuracy: 0.8241 - val_loss: 0.7920 - val_accuracy: 0.7985 - lr: 0.0010\n",
      "Epoch 19/500\n",
      "456/456 [==============================] - 22s 48ms/step - loss: 0.7587 - accuracy: 0.8251 - val_loss: 0.6336 - val_accuracy: 0.8586 - lr: 0.0010\n",
      "Epoch 20/500\n",
      "456/456 [==============================] - 22s 48ms/step - loss: 0.7592 - accuracy: 0.8274 - val_loss: 0.6845 - val_accuracy: 0.8487 - lr: 0.0010\n",
      "Epoch 21/500\n",
      "455/456 [============================>.] - ETA: 0s - loss: 0.7462 - accuracy: 0.8313\n",
      "Epoch 21: ReduceLROnPlateau reducing learning rate to 0.0005000000237487257.\n",
      "456/456 [==============================] - 22s 48ms/step - loss: 0.7461 - accuracy: 0.8313 - val_loss: 0.6343 - val_accuracy: 0.8620 - lr: 0.0010\n",
      "Epoch 22/500\n",
      "456/456 [==============================] - 22s 48ms/step - loss: 0.6697 - accuracy: 0.8537 - val_loss: 0.6017 - val_accuracy: 0.8731 - lr: 5.0000e-04\n",
      "Epoch 23/500\n",
      "456/456 [==============================] - 22s 48ms/step - loss: 0.6373 - accuracy: 0.8608 - val_loss: 0.5148 - val_accuracy: 0.8994 - lr: 5.0000e-04\n",
      "Epoch 24/500\n",
      "456/456 [==============================] - 22s 47ms/step - loss: 0.6154 - accuracy: 0.8643 - val_loss: 0.5392 - val_accuracy: 0.8865 - lr: 5.0000e-04\n",
      "Epoch 25/500\n",
      "456/456 [==============================] - 22s 48ms/step - loss: 0.6130 - accuracy: 0.8659 - val_loss: 0.5195 - val_accuracy: 0.8913 - lr: 5.0000e-04\n",
      "Epoch 26/500\n",
      "456/456 [==============================] - 22s 48ms/step - loss: 0.6031 - accuracy: 0.8676 - val_loss: 0.5509 - val_accuracy: 0.8840 - lr: 5.0000e-04\n",
      "Epoch 27/500\n",
      "456/456 [==============================] - 22s 48ms/step - loss: 0.5869 - accuracy: 0.8704 - val_loss: 0.5466 - val_accuracy: 0.8792 - lr: 5.0000e-04\n",
      "Epoch 28/500\n"
     ]
    },
    {
     "name": "stdout",
     "output_type": "stream",
     "text": [
      "455/456 [============================>.] - ETA: 0s - loss: 0.5893 - accuracy: 0.8695\n",
      "Epoch 28: ReduceLROnPlateau reducing learning rate to 0.0002500000118743628.\n",
      "456/456 [==============================] - 22s 48ms/step - loss: 0.5894 - accuracy: 0.8695 - val_loss: 0.5163 - val_accuracy: 0.8904 - lr: 5.0000e-04\n",
      "Epoch 29/500\n",
      "456/456 [==============================] - 22s 47ms/step - loss: 0.5407 - accuracy: 0.8856 - val_loss: 0.4792 - val_accuracy: 0.9010 - lr: 2.5000e-04\n",
      "Epoch 30/500\n",
      "456/456 [==============================] - 22s 48ms/step - loss: 0.5205 - accuracy: 0.8897 - val_loss: 0.4436 - val_accuracy: 0.9119 - lr: 2.5000e-04\n",
      "Epoch 31/500\n",
      "456/456 [==============================] - 22s 48ms/step - loss: 0.5119 - accuracy: 0.8912 - val_loss: 0.4580 - val_accuracy: 0.9086 - lr: 2.5000e-04\n",
      "Epoch 32/500\n",
      "456/456 [==============================] - 22s 47ms/step - loss: 0.5019 - accuracy: 0.8939 - val_loss: 0.4476 - val_accuracy: 0.9043 - lr: 2.5000e-04\n",
      "Epoch 33/500\n",
      "456/456 [==============================] - 22s 48ms/step - loss: 0.5001 - accuracy: 0.8934 - val_loss: 0.4377 - val_accuracy: 0.9097 - lr: 2.5000e-04\n",
      "Epoch 34/500\n",
      "456/456 [==============================] - 22s 48ms/step - loss: 0.4917 - accuracy: 0.8922 - val_loss: 0.4332 - val_accuracy: 0.9127 - lr: 2.5000e-04\n",
      "Epoch 35/500\n",
      "456/456 [==============================] - 21s 47ms/step - loss: 0.4836 - accuracy: 0.8960 - val_loss: 0.4736 - val_accuracy: 0.8991 - lr: 2.5000e-04\n",
      "Epoch 36/500\n",
      "456/456 [==============================] - 22s 47ms/step - loss: 0.4800 - accuracy: 0.8971 - val_loss: 0.4393 - val_accuracy: 0.9065 - lr: 2.5000e-04\n",
      "Epoch 37/500\n",
      "456/456 [==============================] - 22s 48ms/step - loss: 0.4776 - accuracy: 0.8951 - val_loss: 0.4205 - val_accuracy: 0.9115 - lr: 2.5000e-04\n",
      "Epoch 38/500\n",
      "456/456 [==============================] - 22s 47ms/step - loss: 0.4757 - accuracy: 0.8953 - val_loss: 0.4458 - val_accuracy: 0.9078 - lr: 2.5000e-04\n",
      "Epoch 39/500\n",
      "456/456 [==============================] - 22s 48ms/step - loss: 0.4629 - accuracy: 0.8995 - val_loss: 0.4459 - val_accuracy: 0.9061 - lr: 2.5000e-04\n",
      "Epoch 40/500\n",
      "456/456 [==============================] - 22s 48ms/step - loss: 0.4580 - accuracy: 0.8983 - val_loss: 0.4037 - val_accuracy: 0.9180 - lr: 2.5000e-04\n",
      "Epoch 41/500\n",
      "456/456 [==============================] - 22s 48ms/step - loss: 0.4587 - accuracy: 0.8982 - val_loss: 0.4257 - val_accuracy: 0.9102 - lr: 2.5000e-04\n",
      "Epoch 42/500\n",
      "456/456 [==============================] - 22s 48ms/step - loss: 0.4537 - accuracy: 0.9009 - val_loss: 0.4421 - val_accuracy: 0.9036 - lr: 2.5000e-04\n",
      "Epoch 43/500\n",
      "456/456 [==============================] - 22s 47ms/step - loss: 0.4541 - accuracy: 0.8988 - val_loss: 0.4113 - val_accuracy: 0.9161 - lr: 2.5000e-04\n",
      "Epoch 44/500\n",
      "456/456 [==============================] - 22s 47ms/step - loss: 0.4485 - accuracy: 0.9028 - val_loss: 0.4315 - val_accuracy: 0.9098 - lr: 2.5000e-04\n",
      "Epoch 45/500\n",
      "456/456 [==============================] - ETA: 0s - loss: 0.4504 - accuracy: 0.9014\n",
      "Epoch 45: ReduceLROnPlateau reducing learning rate to 0.0001250000059371814.\n",
      "456/456 [==============================] - 22s 47ms/step - loss: 0.4504 - accuracy: 0.9014 - val_loss: 0.4074 - val_accuracy: 0.9143 - lr: 2.5000e-04\n",
      "Epoch 46/500\n",
      "456/456 [==============================] - 22s 47ms/step - loss: 0.4201 - accuracy: 0.9102 - val_loss: 0.3893 - val_accuracy: 0.9200 - lr: 1.2500e-04\n",
      "Epoch 47/500\n",
      "456/456 [==============================] - 22s 47ms/step - loss: 0.4075 - accuracy: 0.9139 - val_loss: 0.3788 - val_accuracy: 0.9238 - lr: 1.2500e-04\n",
      "Epoch 48/500\n",
      "456/456 [==============================] - 22s 47ms/step - loss: 0.4059 - accuracy: 0.9143 - val_loss: 0.3805 - val_accuracy: 0.9224 - lr: 1.2500e-04\n",
      "Epoch 49/500\n",
      "456/456 [==============================] - 21s 47ms/step - loss: 0.3987 - accuracy: 0.9139 - val_loss: 0.3713 - val_accuracy: 0.9242 - lr: 1.2500e-04\n",
      "Epoch 50/500\n",
      "456/456 [==============================] - 22s 47ms/step - loss: 0.4010 - accuracy: 0.9144 - val_loss: 0.3788 - val_accuracy: 0.9224 - lr: 1.2500e-04\n",
      "Epoch 51/500\n",
      "456/456 [==============================] - 22s 47ms/step - loss: 0.3970 - accuracy: 0.9164 - val_loss: 0.3791 - val_accuracy: 0.9201 - lr: 1.2500e-04\n",
      "Epoch 52/500\n",
      "455/456 [============================>.] - ETA: 0s - loss: 0.3893 - accuracy: 0.9178\n",
      "Epoch 52: ReduceLROnPlateau reducing learning rate to 6.25000029685907e-05.\n",
      "456/456 [==============================] - 22s 47ms/step - loss: 0.3892 - accuracy: 0.9179 - val_loss: 0.3736 - val_accuracy: 0.9224 - lr: 1.2500e-04\n",
      "Epoch 53/500\n",
      "456/456 [==============================] - 22s 47ms/step - loss: 0.3815 - accuracy: 0.9179 - val_loss: 0.3678 - val_accuracy: 0.9275 - lr: 6.2500e-05\n",
      "Epoch 54/500\n",
      "456/456 [==============================] - 22s 47ms/step - loss: 0.3776 - accuracy: 0.9214 - val_loss: 0.3672 - val_accuracy: 0.9252 - lr: 6.2500e-05\n",
      "Epoch 55/500\n",
      "456/456 [==============================] - 22s 47ms/step - loss: 0.3688 - accuracy: 0.9227 - val_loss: 0.3615 - val_accuracy: 0.9261 - lr: 6.2500e-05\n",
      "Epoch 56/500\n",
      "456/456 [==============================] - 22s 47ms/step - loss: 0.3708 - accuracy: 0.9229 - val_loss: 0.3573 - val_accuracy: 0.9269 - lr: 6.2500e-05\n",
      "Epoch 57/500\n",
      "456/456 [==============================] - 21s 47ms/step - loss: 0.3707 - accuracy: 0.9231 - val_loss: 0.3562 - val_accuracy: 0.9269 - lr: 6.2500e-05\n",
      "Epoch 58/500\n",
      "456/456 [==============================] - 21s 47ms/step - loss: 0.3690 - accuracy: 0.9234 - val_loss: 0.3532 - val_accuracy: 0.9290 - lr: 6.2500e-05\n",
      "Epoch 59/500\n",
      "456/456 [==============================] - 22s 47ms/step - loss: 0.3684 - accuracy: 0.9230 - val_loss: 0.3613 - val_accuracy: 0.9269 - lr: 6.2500e-05\n",
      "Epoch 60/500\n",
      "456/456 [==============================] - 22s 48ms/step - loss: 0.3604 - accuracy: 0.9243 - val_loss: 0.3628 - val_accuracy: 0.9250 - lr: 6.2500e-05\n",
      "Epoch 61/500\n",
      "455/456 [============================>.] - ETA: 0s - loss: 0.3639 - accuracy: 0.9212\n",
      "Epoch 61: ReduceLROnPlateau reducing learning rate to 3.125000148429535e-05.\n",
      "456/456 [==============================] - 22s 48ms/step - loss: 0.3637 - accuracy: 0.9213 - val_loss: 0.3667 - val_accuracy: 0.9249 - lr: 6.2500e-05\n",
      "Epoch 62/500\n",
      "456/456 [==============================] - 22s 48ms/step - loss: 0.3553 - accuracy: 0.9263 - val_loss: 0.3535 - val_accuracy: 0.9261 - lr: 3.1250e-05\n",
      "Epoch 63/500\n",
      "456/456 [==============================] - 22s 47ms/step - loss: 0.3478 - accuracy: 0.9278 - val_loss: 0.3416 - val_accuracy: 0.9296 - lr: 3.1250e-05\n",
      "Epoch 64/500\n",
      "456/456 [==============================] - 22s 48ms/step - loss: 0.3517 - accuracy: 0.9267 - val_loss: 0.3515 - val_accuracy: 0.9271 - lr: 3.1250e-05\n",
      "Epoch 65/500\n",
      "456/456 [==============================] - 22s 48ms/step - loss: 0.3488 - accuracy: 0.9275 - val_loss: 0.3425 - val_accuracy: 0.9305 - lr: 3.1250e-05\n",
      "Epoch 66/500\n",
      "456/456 [==============================] - 22s 47ms/step - loss: 0.3476 - accuracy: 0.9279 - val_loss: 0.3413 - val_accuracy: 0.9312 - lr: 3.1250e-05\n",
      "Epoch 67/500\n",
      "456/456 [==============================] - 22s 47ms/step - loss: 0.3475 - accuracy: 0.9282 - val_loss: 0.3447 - val_accuracy: 0.9294 - lr: 3.1250e-05\n",
      "Epoch 68/500\n",
      "455/456 [============================>.] - ETA: 0s - loss: 0.3470 - accuracy: 0.9273\n",
      "Epoch 68: ReduceLROnPlateau reducing learning rate to 1.5625000742147677e-05.\n",
      "456/456 [==============================] - 22s 48ms/step - loss: 0.3469 - accuracy: 0.9274 - val_loss: 0.3443 - val_accuracy: 0.9285 - lr: 3.1250e-05\n",
      "Epoch 69/500\n",
      "456/456 [==============================] - 22s 47ms/step - loss: 0.3374 - accuracy: 0.9321 - val_loss: 0.3402 - val_accuracy: 0.9298 - lr: 1.5625e-05\n",
      "Epoch 70/500\n",
      "456/456 [==============================] - 22s 48ms/step - loss: 0.3351 - accuracy: 0.9317 - val_loss: 0.3378 - val_accuracy: 0.9313 - lr: 1.5625e-05\n",
      "Epoch 71/500\n",
      "456/456 [==============================] - 22s 47ms/step - loss: 0.3407 - accuracy: 0.9288 - val_loss: 0.3353 - val_accuracy: 0.9333 - lr: 1.5625e-05\n",
      "Epoch 72/500\n",
      "456/456 [==============================] - 22s 47ms/step - loss: 0.3353 - accuracy: 0.9306 - val_loss: 0.3400 - val_accuracy: 0.9301 - lr: 1.5625e-05\n",
      "Epoch 73/500\n"
     ]
    },
    {
     "name": "stdout",
     "output_type": "stream",
     "text": [
      "455/456 [============================>.] - ETA: 0s - loss: 0.3386 - accuracy: 0.9297\n",
      "Epoch 73: ReduceLROnPlateau reducing learning rate to 7.812500371073838e-06.\n",
      "456/456 [==============================] - 22s 47ms/step - loss: 0.3386 - accuracy: 0.9297 - val_loss: 0.3405 - val_accuracy: 0.9311 - lr: 1.5625e-05\n",
      "Epoch 74/500\n",
      "456/456 [==============================] - 21s 47ms/step - loss: 0.3324 - accuracy: 0.9324 - val_loss: 0.3383 - val_accuracy: 0.9316 - lr: 7.8125e-06\n",
      "Epoch 75/500\n",
      "456/456 [==============================] - 22s 47ms/step - loss: 0.3352 - accuracy: 0.9301 - val_loss: 0.3490 - val_accuracy: 0.9279 - lr: 7.8125e-06\n",
      "Epoch 76/500\n",
      "456/456 [==============================] - 22s 47ms/step - loss: 0.3372 - accuracy: 0.9304 - val_loss: 0.3446 - val_accuracy: 0.9287 - lr: 7.8125e-06\n",
      "Epoch 77/500\n",
      "456/456 [==============================] - 22s 48ms/step - loss: 0.3344 - accuracy: 0.9320 - val_loss: 0.3401 - val_accuracy: 0.9306 - lr: 7.8125e-06\n",
      "Epoch 78/500\n",
      "455/456 [============================>.] - ETA: 0s - loss: 0.3376 - accuracy: 0.9310\n",
      "Epoch 78: ReduceLROnPlateau reducing learning rate to 3.906250185536919e-06.\n",
      "456/456 [==============================] - 21s 47ms/step - loss: 0.3372 - accuracy: 0.9311 - val_loss: 0.3531 - val_accuracy: 0.9282 - lr: 7.8125e-06\n",
      "Epoch 79/500\n",
      "456/456 [==============================] - 21s 47ms/step - loss: 0.3323 - accuracy: 0.9319 - val_loss: 0.3471 - val_accuracy: 0.9298 - lr: 3.9063e-06\n",
      "Epoch 80/500\n",
      "456/456 [==============================] - 21s 47ms/step - loss: 0.3324 - accuracy: 0.9310 - val_loss: 0.3390 - val_accuracy: 0.9328 - lr: 3.9063e-06\n",
      "Epoch 81/500\n",
      "456/456 [==============================] - 21s 47ms/step - loss: 0.3328 - accuracy: 0.9318 - val_loss: 0.3380 - val_accuracy: 0.9309 - lr: 3.9063e-06\n",
      "Epoch 82/500\n",
      "456/456 [==============================] - 22s 47ms/step - loss: 0.3355 - accuracy: 0.9306 - val_loss: 0.3340 - val_accuracy: 0.9335 - lr: 3.9063e-06\n",
      "Epoch 83/500\n",
      "456/456 [==============================] - ETA: 0s - loss: 0.3322 - accuracy: 0.9319\n",
      "Epoch 83: ReduceLROnPlateau reducing learning rate to 1.9531250927684596e-06.\n",
      "456/456 [==============================] - 21s 47ms/step - loss: 0.3322 - accuracy: 0.9319 - val_loss: 0.3371 - val_accuracy: 0.9308 - lr: 3.9063e-06\n",
      "Epoch 84/500\n",
      "456/456 [==============================] - 21s 47ms/step - loss: 0.3322 - accuracy: 0.9308 - val_loss: 0.3383 - val_accuracy: 0.9312 - lr: 1.9531e-06\n",
      "Epoch 85/500\n",
      "456/456 [==============================] - 21s 47ms/step - loss: 0.3333 - accuracy: 0.9317 - val_loss: 0.3365 - val_accuracy: 0.9327 - lr: 1.9531e-06\n",
      "Epoch 86/500\n",
      "456/456 [==============================] - 21s 47ms/step - loss: 0.3350 - accuracy: 0.9324 - val_loss: 0.3430 - val_accuracy: 0.9312 - lr: 1.9531e-06\n",
      "Epoch 87/500\n",
      "456/456 [==============================] - 21s 47ms/step - loss: 0.3294 - accuracy: 0.9332 - val_loss: 0.3389 - val_accuracy: 0.9311 - lr: 1.9531e-06\n",
      "Epoch 88/500\n",
      "455/456 [============================>.] - ETA: 0s - loss: 0.3348 - accuracy: 0.9301\n",
      "Epoch 88: ReduceLROnPlateau reducing learning rate to 9.765625463842298e-07.\n",
      "456/456 [==============================] - 21s 47ms/step - loss: 0.3346 - accuracy: 0.9301 - val_loss: 0.3403 - val_accuracy: 0.9301 - lr: 1.9531e-06\n",
      "Epoch 89/500\n",
      "456/456 [==============================] - 21s 47ms/step - loss: 0.3301 - accuracy: 0.9316 - val_loss: 0.3417 - val_accuracy: 0.9308 - lr: 9.7656e-07\n",
      "Epoch 90/500\n",
      "456/456 [==============================] - 21s 47ms/step - loss: 0.3324 - accuracy: 0.9316 - val_loss: 0.3428 - val_accuracy: 0.9294 - lr: 9.7656e-07\n",
      "Epoch 91/500\n",
      "456/456 [==============================] - 21s 47ms/step - loss: 0.3306 - accuracy: 0.9314 - val_loss: 0.3345 - val_accuracy: 0.9322 - lr: 9.7656e-07\n",
      "Epoch 92/500\n",
      "456/456 [==============================] - 21s 47ms/step - loss: 0.3340 - accuracy: 0.9316 - val_loss: 0.3441 - val_accuracy: 0.9289 - lr: 9.7656e-07\n",
      "Epoch 93/500\n",
      "455/456 [============================>.] - ETA: 0s - loss: 0.3305 - accuracy: 0.9317\n",
      "Epoch 93: ReduceLROnPlateau reducing learning rate to 4.882812731921149e-07.\n",
      "456/456 [==============================] - 21s 47ms/step - loss: 0.3310 - accuracy: 0.9316 - val_loss: 0.3364 - val_accuracy: 0.9320 - lr: 9.7656e-07\n",
      "Epoch 94/500\n",
      "456/456 [==============================] - 21s 47ms/step - loss: 0.3352 - accuracy: 0.9298 - val_loss: 0.3412 - val_accuracy: 0.9312 - lr: 4.8828e-07\n",
      "Epoch 95/500\n",
      "456/456 [==============================] - 21s 47ms/step - loss: 0.3350 - accuracy: 0.9307 - val_loss: 0.3417 - val_accuracy: 0.9302 - lr: 4.8828e-07\n",
      "Epoch 96/500\n",
      "456/456 [==============================] - 21s 47ms/step - loss: 0.3311 - accuracy: 0.9324 - val_loss: 0.3409 - val_accuracy: 0.9302 - lr: 4.8828e-07\n",
      "Epoch 97/500\n",
      "456/456 [==============================] - 21s 47ms/step - loss: 0.3315 - accuracy: 0.9315 - val_loss: 0.3448 - val_accuracy: 0.9294 - lr: 4.8828e-07\n",
      "Epoch 97: early stopping\n"
     ]
    }
   ],
   "source": [
    "BATCH_SIZE = 64\n",
    "num_classes = 10\n",
    "FILTER_LENGTH = 5\n",
    "CONV_FILTER_COUNT = 64\n",
    "LSTM_COUNT = 96\n",
    "EPOCH_COUNT = 500\n",
    "NUM_HIDDEN = 64\n",
    "L2_regularization = 0.001\n",
    "\n",
    "model = Sequential()\n",
    "model.add(Conv1D(input_shape=(None,128),filters=64,\n",
    "                kernel_size=5,\n",
    "                kernel_regularizer=regularizers.l2(L2_regularization)))\n",
    "model.add(BatchNormalization(momentum=0.9))\n",
    "model.add(Activation('relu'))\n",
    "model.add(MaxPooling1D(2))\n",
    "model.add(Dropout(0.4))\n",
    "\n",
    "model.add(Conv1D(filters=128,\n",
    "                kernel_size=5,\n",
    "                kernel_regularizer=regularizers.l2(L2_regularization)))\n",
    "model.add(BatchNormalization(momentum=0.9))\n",
    "model.add(Activation('relu'))\n",
    "model.add(MaxPooling1D(2))\n",
    "model.add(Dropout(0.4))\n",
    "\n",
    "model.add(Conv1D(filters=64,\n",
    "                kernel_size=5,\n",
    "                kernel_regularizer=regularizers.l2(L2_regularization)))\n",
    "model.add(BatchNormalization(momentum=0.9))\n",
    "model.add(Activation('relu'))\n",
    "model.add(MaxPooling1D(2))\n",
    "model.add(Dropout(0.4))\n",
    "\n",
    "model.add(LSTM(LSTM_COUNT, return_sequences=False))\n",
    "model.add(Dropout(0.4))\n",
    "model.add(Dense(NUM_HIDDEN, kernel_regularizer=regularizers.l2(L2_regularization)))\n",
    "model.add(Dropout(0.4))\n",
    "model.add(Dense(num_classes))\n",
    "model.add(Activation('softmax', name='output_realtime'))\n",
    "\n",
    "\n",
    "\n",
    "# initiate Adam optimizer\n",
    "opt = Adam(lr=0.001)\n",
    "\n",
    "# Let's train the model using Adam\n",
    "model.compile(\n",
    "            loss='categorical_crossentropy',\n",
    "            optimizer=opt,\n",
    "            metrics=['accuracy']\n",
    "        )\n",
    "\n",
    "print(model.summary())\n",
    "\n",
    "\n",
    "earlystop = EarlyStopping(monitor='val_loss', patience=15, verbose=1, mode='min')\n",
    "\n",
    "reducelr_callback = ReduceLROnPlateau(\n",
    "                monitor='val_loss', factor=0.5, patience=5, min_delta=0.01,\n",
    "                verbose=1, mode='min'\n",
    "            )\n",
    "\n",
    "model_history = model.fit(X_train, \n",
    "                          y_train,\n",
    "                          batch_size=BATCH_SIZE,\n",
    "                    epochs=EPOCH_COUNT,\n",
    "                    validation_data=(X_test, y_test),\n",
    "                    workers=4,\n",
    "                    callbacks=[earlystop, reducelr_callback])\n"
   ]
  },
  {
   "cell_type": "code",
   "execution_count": 12,
   "id": "a65af5b7",
   "metadata": {},
   "outputs": [],
   "source": [
    "model.save('./models/crnn/crnnmodel1.h5')"
   ]
  },
  {
   "cell_type": "code",
   "execution_count": 13,
   "id": "8949a9b1",
   "metadata": {},
   "outputs": [
    {
     "data": {
      "image/png": "[encoded data removed]",
      "text/plain": [
       "<Figure size 432x288 with 1 Axes>"
      ]
     },
     "metadata": {
      "needs_background": "light"
     },
     "output_type": "display_data"
    },
    {
     "data": {
      "image/png": "[encoded data removed]",
      "text/plain": [
       "<Figure size 432x288 with 1 Axes>"
      ]
     },
     "metadata": {
      "needs_background": "light"
     },
     "output_type": "display_data"
    }
   ],
   "source": [
    "training_loss = model_history.history['loss']\n",
    "val_loss = model_history.history['val_loss']\n",
    "\n",
    "plt.plot(training_loss, label=\"training_loss\")\n",
    "plt.plot(val_loss, label=\"validation_loss\")\n",
    "plt.xlabel(\"Epochs\")\n",
    "plt.ylabel(\"Loss\")\n",
    "plt.title(\"model loss\")\n",
    "plt.legend(loc='upper left')\n",
    "plt.show()\n",
    "\n",
    "training_loss = model_history.history['accuracy']\n",
    "val_loss = model_history.history['val_accuracy']\n",
    "\n",
    "plt.plot(training_loss, label=\"training_loss\")\n",
    "plt.plot(val_loss, label=\"validation_loss\")\n",
    "plt.xlabel(\"Epochs\")\n",
    "plt.ylabel(\"accuracy\")\n",
    "plt.title(\"model accuracy\")\n",
    "plt.legend([\"train\", \"test\"], loc=\"upper left\")\n",
    "plt.show()"
   ]
  },
  {
   "cell_type": "code",
   "execution_count": 14,
   "id": "57339a05",
   "metadata": {},
   "outputs": [],
   "source": [
    "dict_genres = {'blues':0, 'classical':1, 'country':2, 'disco':3, \n",
    "           'hiphop':4,'jazz':5, 'metal' :6, 'pop': 7 ,'reggae': 8 ,'rock':9}"
   ]
  },
  {
   "cell_type": "code",
   "execution_count": 15,
   "id": "ff28b6f2",
   "metadata": {},
   "outputs": [
    {
     "name": "stdout",
     "output_type": "stream",
     "text": [
      "228/228 [==============================] - 2s 6ms/step\n",
      "(7296,) (7296,)\n",
      "              precision    recall  f1-score   support\n",
      "\n",
      "       blues       0.94      0.91      0.93       901\n",
      "   classical       0.88      1.00      0.94       865\n",
      "     country       0.92      0.86      0.89       500\n",
      "       disco       0.99      0.98      0.98       714\n",
      "      hiphop       0.95      0.92      0.93       457\n",
      "        jazz       0.91      0.97      0.94       827\n",
      "       metal       0.94      0.96      0.95       981\n",
      "         pop       0.91      0.81      0.86       481\n",
      "      reggae       0.97      0.95      0.96       660\n",
      "        rock       0.91      0.87      0.89       910\n",
      "\n",
      "    accuracy                           0.93      7296\n",
      "   macro avg       0.93      0.92      0.93      7296\n",
      "weighted avg       0.93      0.93      0.93      7296\n",
      "\n"
     ]
    }
   ],
   "source": [
    "from sklearn.metrics import classification_report\n",
    "\n",
    "y_true = np.argmax(y_test, axis = 1)\n",
    "y_pred = model.predict(X_test)\n",
    "y_pred = np.argmax(y_pred, axis=1)\n",
    "labels = [0,1,2,3,4,5,6,7,8,9]\n",
    "target_names = dict_genres.keys()\n",
    "\n",
    "print(y_true.shape, y_pred.shape)\n",
    "print(classification_report(y_true, y_pred, target_names=target_names))"
   ]
  },
  {
   "cell_type": "code",
   "execution_count": 16,
   "id": "6ae6fdf0",
   "metadata": {},
   "outputs": [
    {
     "data": {
      "image/png": "[encoded data removed]",
      "text/plain": [
       "<Figure size 432x288 with 1 Axes>"
      ]
     },
     "metadata": {
      "needs_background": "light"
     },
     "output_type": "display_data"
    }
   ],
   "source": [
    "mat = confusion_matrix(y_true, y_pred)\n",
    "sns.heatmap(mat.T, square=True, annot=True, fmt='d', cbar=False,\n",
    "            xticklabels=dict_genres.keys(),\n",
    "            yticklabels=dict_genres.keys())\n",
    "plt.xlabel('true label')\n",
    "plt.ylabel('predicted label');"
   ]
  },
  {
   "cell_type": "code",
   "execution_count": null,
   "id": "e6c2178d",
   "metadata": {},
   "outputs": [],
   "source": []
  }
 ],
 "metadata": {
  "kernelspec": {
   "display_name": "Python 3 (ipykernel)",
   "language": "python",
   "name": "python3"
  },
  "language_info": {
   "codemirror_mode": {
    "name": "ipython",
    "version": 3
   },
   "file_extension": ".py",
   "mimetype": "text/x-python",
   "name": "python",
   "nbconvert_exporter": "python",
   "pygments_lexer": "ipython3",
   "version": "3.9.12"
  }
 },
 "nbformat": 4,
 "nbformat_minor": 5
}
