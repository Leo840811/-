{
 "cells": [
  {
   "cell_type": "code",
   "execution_count": 1,
   "id": "19c74892",
   "metadata": {},
   "outputs": [],
   "source": [
    "import librosa\n",
    "import numpy as np\n",
    "from IPython.display import Audio  #播放套件\n",
    "import matplotlib.pyplot as plt \n",
    "import librosa.display  #libroso 繪圖\n",
    "import time\n",
    "import os, re\n",
    "from os import listdir\n",
    "from os.path import isfile, join\n",
    "from sklearn.model_selection import train_test_split\n",
    "import keras\n",
    "from keras.models import Sequential, load_model\n",
    "from keras.layers import Dense, Dropout, Activation, Flatten\n",
    "from keras.layers import Conv2D, MaxPooling2D\n",
    "from keras.callbacks import EarlyStopping, ModelCheckpoint\n",
    "import matplotlib.pyplot as plt"
   ]
  },
  {
   "cell_type": "code",
   "execution_count": 2,
   "id": "53c14f13",
   "metadata": {},
   "outputs": [
    {
     "name": "stdout",
     "output_type": "stream",
     "text": [
      "['arr_0', 'arr_1']\n",
      "(36480, 128, 130) (36480,)\n"
     ]
    }
   ],
   "source": [
    "npzfile = np.load('df_zero_arr.npz')\n",
    "print(npzfile.files)\n",
    "X = npzfile['arr_0']\n",
    "y = npzfile['arr_1']\n",
    "print(X.shape, y.shape)"
   ]
  },
  {
   "cell_type": "code",
   "execution_count": 3,
   "id": "deff2421",
   "metadata": {},
   "outputs": [
    {
     "data": {
      "text/plain": [
       "(36480, 10)"
      ]
     },
     "execution_count": 3,
     "metadata": {},
     "output_type": "execute_result"
    }
   ],
   "source": [
    "y_onehot = np.eye(10)[y]\n",
    "y_onehot.shape"
   ]
  },
  {
   "cell_type": "code",
   "execution_count": 5,
   "id": "efe5c7ef",
   "metadata": {},
   "outputs": [
    {
     "data": {
      "text/plain": [
       "(36480, 128, 130)"
      ]
     },
     "execution_count": 5,
     "metadata": {},
     "output_type": "execute_result"
    }
   ],
   "source": [
    "means = np.mean(X,axis=(0,2))\n",
    "stds = np.std(X,axis=(0,2))\n",
    "means = means.reshape(1,-1,1)\n",
    "stds = stds.reshape(1,-1,1)\n",
    "X = (X-means)/stds\n",
    "X.shape"
   ]
  },
  {
   "cell_type": "code",
   "execution_count": 6,
   "id": "7fb96289",
   "metadata": {},
   "outputs": [
    {
     "data": {
      "text/plain": [
       "(36480, 128, 130, 1)"
      ]
     },
     "execution_count": 6,
     "metadata": {},
     "output_type": "execute_result"
    }
   ],
   "source": [
    "X = X.reshape(36480, 128, 130, 1)\n",
    "X.shape"
   ]
  },
  {
   "cell_type": "code",
   "execution_count": 7,
   "id": "0843ead6",
   "metadata": {},
   "outputs": [
    {
     "data": {
      "text/plain": [
       "(29184, 10)"
      ]
     },
     "execution_count": 7,
     "metadata": {},
     "output_type": "execute_result"
    }
   ],
   "source": [
    "X_train, X_test, y_train, y_test = train_test_split(X, y_onehot, test_size=0.2, random_state=42)\n",
    "y_train.shape"
   ]
  },
  {
   "cell_type": "code",
   "execution_count": 8,
   "id": "555e8626",
   "metadata": {},
   "outputs": [],
   "source": [
    "batch_size = 64\n",
    "num_classes = 10\n",
    "epochs = 50\n",
    "save_dir = os.path.join(os.getcwd(), 'saved_models')\n",
    "model_name = 'testmodel.h5'"
   ]
  },
  {
   "cell_type": "code",
   "execution_count": 11,
   "id": "1a9fdae0",
   "metadata": {},
   "outputs": [
    {
     "name": "stdout",
     "output_type": "stream",
     "text": [
      "Model: \"sequential_2\"\n",
      "_________________________________________________________________\n",
      " Layer (type)                Output Shape              Param #   \n",
      "=================================================================\n",
      " conv2d_8 (Conv2D)           (None, 126, 128, 64)      640       \n",
      "                                                                 \n",
      " activation_12 (Activation)  (None, 126, 128, 64)      0         \n",
      "                                                                 \n",
      " conv2d_9 (Conv2D)           (None, 124, 126, 128)     73856     \n",
      "                                                                 \n",
      " activation_13 (Activation)  (None, 124, 126, 128)     0         \n",
      "                                                                 \n",
      " max_pooling2d_4 (MaxPooling  (None, 62, 63, 128)      0         \n",
      " 2D)                                                             \n",
      "                                                                 \n",
      " dropout_6 (Dropout)         (None, 62, 63, 128)       0         \n",
      "                                                                 \n",
      " conv2d_10 (Conv2D)          (None, 60, 61, 64)        73792     \n",
      "                                                                 \n",
      " activation_14 (Activation)  (None, 60, 61, 64)        0         \n",
      "                                                                 \n",
      " conv2d_11 (Conv2D)          (None, 58, 59, 64)        36928     \n",
      "                                                                 \n",
      " activation_15 (Activation)  (None, 58, 59, 64)        0         \n",
      "                                                                 \n",
      " max_pooling2d_5 (MaxPooling  (None, 29, 29, 64)       0         \n",
      " 2D)                                                             \n",
      "                                                                 \n",
      " dropout_7 (Dropout)         (None, 29, 29, 64)        0         \n",
      "                                                                 \n",
      " flatten_2 (Flatten)         (None, 53824)             0         \n",
      "                                                                 \n",
      " dense_4 (Dense)             (None, 512)               27558400  \n",
      "                                                                 \n",
      " activation_16 (Activation)  (None, 512)               0         \n",
      "                                                                 \n",
      " dropout_8 (Dropout)         (None, 512)               0         \n",
      "                                                                 \n",
      " dense_5 (Dense)             (None, 10)                5130      \n",
      "                                                                 \n",
      " activation_17 (Activation)  (None, 10)                0         \n",
      "                                                                 \n",
      "=================================================================\n",
      "Total params: 27,748,746\n",
      "Trainable params: 27,748,746\n",
      "Non-trainable params: 0\n",
      "_________________________________________________________________\n",
      "None\n",
      "Epoch 1/50\n",
      "456/456 [==============================] - 1398s 3s/step - loss: 1.3745 - accuracy: 0.5268 - val_loss: 0.9460 - val_accuracy: 0.6804\n",
      "Epoch 2/50\n",
      "456/456 [==============================] - 1390s 3s/step - loss: 0.8215 - accuracy: 0.7210 - val_loss: 0.6325 - val_accuracy: 0.7860\n",
      "Epoch 3/50\n",
      "456/456 [==============================] - 1392s 3s/step - loss: 0.5558 - accuracy: 0.8129 - val_loss: 0.4953 - val_accuracy: 0.8340\n",
      "Epoch 4/50\n",
      "456/456 [==============================] - 1392s 3s/step - loss: 0.3690 - accuracy: 0.8795 - val_loss: 0.5161 - val_accuracy: 0.8405\n",
      "Epoch 5/50\n",
      "456/456 [==============================] - 1389s 3s/step - loss: 0.2779 - accuracy: 0.9084 - val_loss: 0.4669 - val_accuracy: 0.8506\n",
      "Epoch 6/50\n",
      "456/456 [==============================] - 1390s 3s/step - loss: 0.2078 - accuracy: 0.9322 - val_loss: 0.5165 - val_accuracy: 0.8436\n",
      "Epoch 7/50\n",
      "456/456 [==============================] - 1390s 3s/step - loss: 0.1710 - accuracy: 0.9436 - val_loss: 0.5083 - val_accuracy: 0.8520\n",
      "Epoch 8/50\n",
      "456/456 [==============================] - 1391s 3s/step - loss: 0.1551 - accuracy: 0.9499 - val_loss: 0.5260 - val_accuracy: 0.8491\n",
      "Epoch 9/50\n",
      "456/456 [==============================] - 1390s 3s/step - loss: 0.1399 - accuracy: 0.9542 - val_loss: 0.5512 - val_accuracy: 0.8506\n",
      "Epoch 10/50\n",
      "456/456 [==============================] - 1389s 3s/step - loss: 0.1252 - accuracy: 0.9596 - val_loss: 0.5335 - val_accuracy: 0.8558\n",
      "Epoch 10: early stopping\n",
      "228/228 [==============================] - 65s 285ms/step - loss: 0.5335 - accuracy: 0.8558\n",
      "Test loss: 0.5334856510162354\n",
      "Test accuracy: 0.8558114171028137\n"
     ]
    }
   ],
   "source": [
    "# build our CNN model\n",
    "model = Sequential()\n",
    "model.add(Conv2D(64, (3, 3), padding='valid',\n",
    "                 input_shape=X_train.shape[1:]))\n",
    "model.add(Activation('relu'))\n",
    "model.add(Conv2D(128, (3, 3)))\n",
    "model.add(Activation('relu'))\n",
    "model.add(MaxPooling2D(pool_size=(2, 2)))\n",
    "model.add(Dropout(0.25))\n",
    "\n",
    "model.add(Conv2D(64, (3, 3), padding='valid'))\n",
    "model.add(Activation('relu'))\n",
    "model.add(Conv2D(64, (3, 3)))\n",
    "model.add(Activation('relu'))\n",
    "model.add(MaxPooling2D(pool_size=(2, 2)))\n",
    "model.add(Dropout(0.25))\n",
    "\n",
    "model.add(Flatten())\n",
    "model.add(Dense(512))\n",
    "model.add(Activation('relu'))\n",
    "model.add(Dropout(0.5))\n",
    "model.add(Dense(num_classes))\n",
    "model.add(Activation('softmax'))\n",
    "\n",
    "print(model.summary())\n",
    "\n",
    "# initiate Adam optimizer\n",
    "opt = keras.optimizers.Adam()\n",
    "\n",
    "# Let's train the model using Adam\n",
    "model.compile(loss='categorical_crossentropy',\n",
    "              optimizer=opt,\n",
    "              metrics=['accuracy'])\n",
    "\n",
    "\n",
    "if not os.path.isdir(save_dir):\n",
    "    os.makedirs(save_dir)\n",
    "model_path = os.path.join(save_dir, model_name)\n",
    "checkpoint = ModelCheckpoint(model_path, monitor='val_loss', save_best_only=True, verbose=1)\n",
    "\n",
    "# earlystop\n",
    "earlystop = EarlyStopping(monitor='val_loss', patience=5, verbose=1)\n",
    "\n",
    "# Fit the model on the batches generated by datagen.flow().\n",
    "# model_history = model.fit_generator(datagen.flow(x_train, y_train,\n",
    "#                                  batch_size=batch_size),\n",
    "#                     epochs=epochs,\n",
    "#                     validation_data=(x_test, y_test),\n",
    "#                     workers=4,\n",
    "#                     callbacks=[earlystop])\n",
    "\n",
    "model_history = model.fit(X_train, \n",
    "                          y_train,\n",
    "                          batch_size=batch_size,\n",
    "                    epochs=epochs,\n",
    "                    validation_data=(X_test, y_test),\n",
    "                    workers=1,\n",
    "                    callbacks=[earlystop])\n",
    "\n",
    "# loading our save model\n",
    "# print(\"Loading trained model\")\n",
    "# model = load_model(model_path)\n",
    "\n",
    "# Score trained model.\n",
    "scores = model.evaluate(X_test, y_test, verbose=1)\n",
    "print('Test loss:', scores[0])\n",
    "print('Test accuracy:', scores[1])"
   ]
  }
 ],
 "metadata": {
  "kernelspec": {
   "display_name": "Python 3 (ipykernel)",
   "language": "python",
   "name": "python3"
  },
  "language_info": {
   "codemirror_mode": {
    "name": "ipython",
    "version": 3
   },
   "file_extension": ".py",
   "mimetype": "text/x-python",
   "name": "python",
   "nbconvert_exporter": "python",
   "pygments_lexer": "ipython3",
   "version": "3.9.12"
  }
 },
 "nbformat": 4,
 "nbformat_minor": 5
}
