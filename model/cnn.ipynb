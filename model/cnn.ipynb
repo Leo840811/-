{
 "cells": [
  {
   "cell_type": "code",
   "execution_count": 1,
   "id": "19c74892",
   "metadata": {},
   "outputs": [],
   "source": [
    "import librosa\n",
    "import numpy as np\n",
    "from IPython.display import Audio  #播放套件\n",
    "import matplotlib.pyplot as plt \n",
    "import librosa.display  #libroso 繪圖\n",
    "import time\n",
    "import os, re\n",
    "from os import listdir\n",
    "from os.path import isfile, join\n",
    "from sklearn.model_selection import train_test_split\n",
    "import keras\n",
    "from keras.models import Sequential, load_model\n",
    "from keras.layers import Dense, Dropout, Activation, Flatten\n",
    "from keras.layers import Conv2D, MaxPooling2D\n",
    "from keras.callbacks import EarlyStopping, ModelCheckpoint\n",
    "import matplotlib.pyplot as plt"
   ]
  },
  {
   "cell_type": "code",
   "execution_count": 2,
   "id": "53c14f13",
   "metadata": {},
   "outputs": [
    {
     "name": "stdout",
     "output_type": "stream",
     "text": [
      "['arr_0', 'arr_1']\n",
      "(36480, 128, 130) (36480,)\n"
     ]
    }
   ],
   "source": [
    "npzfile = np.load('df_zero_arr.npz')\n",
    "print(npzfile.files)\n",
    "X = npzfile['arr_0']\n",
    "y = npzfile['arr_1']\n",
    "print(X.shape, y.shape)"
   ]
  },
  {
   "cell_type": "code",
   "execution_count": 3,
   "id": "deff2421",
   "metadata": {},
   "outputs": [
    {
     "data": {
      "text/plain": [
       "(36480, 10)"
      ]
     },
     "execution_count": 3,
     "metadata": {},
     "output_type": "execute_result"
    }
   ],
   "source": [
    "y_onehot = np.eye(10)[y]\n",
    "y_onehot.shape"
   ]
  },
  {
   "cell_type": "code",
   "execution_count": 4,
   "id": "efe5c7ef",
   "metadata": {},
   "outputs": [
    {
     "data": {
      "text/plain": [
       "(36480, 128, 130)"
      ]
     },
     "execution_count": 4,
     "metadata": {},
     "output_type": "execute_result"
    }
   ],
   "source": [
    "means = np.mean(X,axis=(0,2))\n",
    "stds = np.std(X,axis=(0,2))\n",
    "means = means.reshape(1,-1,1)\n",
    "stds = stds.reshape(1,-1,1)\n",
    "X = (X-means)/stds\n",
    "X.shape"
   ]
  },
  {
   "cell_type": "code",
   "execution_count": 5,
   "id": "7fb96289",
   "metadata": {},
   "outputs": [
    {
     "data": {
      "text/plain": [
       "(36480, 128, 130, 1)"
      ]
     },
     "execution_count": 5,
     "metadata": {},
     "output_type": "execute_result"
    }
   ],
   "source": [
    "X = X.reshape(36480, 128, 130, 1)\n",
    "X.shape"
   ]
  },
  {
   "cell_type": "code",
   "execution_count": 6,
   "id": "0843ead6",
   "metadata": {},
   "outputs": [
    {
     "data": {
      "text/plain": [
       "(29184, 10)"
      ]
     },
     "execution_count": 6,
     "metadata": {},
     "output_type": "execute_result"
    }
   ],
   "source": [
    "X_train, X_test, y_train, y_test = train_test_split(X, y_onehot, test_size=0.2, random_state=42)\n",
    "y_train.shape"
   ]
  },
  {
   "cell_type": "code",
   "execution_count": 7,
   "id": "555e8626",
   "metadata": {},
   "outputs": [],
   "source": [
    "batch_size = 32\n",
    "num_classes = 10\n",
    "epochs = 100\n",
    "save_dir = os.path.join(os.getcwd(), 'saved_models')\n",
    "model_name = 'testmodel.h5'"
   ]
  },
  {
   "cell_type": "code",
   "execution_count": 14,
   "id": "1a9fdae0",
   "metadata": {
    "scrolled": true
   },
   "outputs": [
    {
     "name": "stdout",
     "output_type": "stream",
     "text": [
      "Model: \"sequential_2\"\n",
      "_________________________________________________________________\n",
      " Layer (type)                Output Shape              Param #   \n",
      "=================================================================\n",
      " conv2d_4 (Conv2D)           (None, 126, 128, 32)      320       \n",
      "                                                                 \n",
      " activation_8 (Activation)   (None, 126, 128, 32)      0         \n",
      "                                                                 \n",
      " max_pooling2d_4 (MaxPooling  (None, 63, 64, 32)       0         \n",
      " 2D)                                                             \n",
      "                                                                 \n",
      " conv2d_5 (Conv2D)           (None, 61, 62, 32)        9248      \n",
      "                                                                 \n",
      " activation_9 (Activation)   (None, 61, 62, 32)        0         \n",
      "                                                                 \n",
      " max_pooling2d_5 (MaxPooling  (None, 30, 31, 32)       0         \n",
      " 2D)                                                             \n",
      "                                                                 \n",
      " flatten_2 (Flatten)         (None, 29760)             0         \n",
      "                                                                 \n",
      " dense_4 (Dense)             (None, 512)               15237632  \n",
      "                                                                 \n",
      " activation_10 (Activation)  (None, 512)               0         \n",
      "                                                                 \n",
      " dense_5 (Dense)             (None, 10)                5130      \n",
      "                                                                 \n",
      " activation_11 (Activation)  (None, 10)                0         \n",
      "                                                                 \n",
      "=================================================================\n",
      "Total params: 15,252,330\n",
      "Trainable params: 15,252,330\n",
      "Non-trainable params: 0\n",
      "_________________________________________________________________\n",
      "None\n",
      "Epoch 1/100\n",
      "912/912 [==============================] - 149s 163ms/step - loss: 1.1135 - accuracy: 0.6231 - val_loss: 0.7553 - val_accuracy: 0.7500\n",
      "Epoch 2/100\n",
      "912/912 [==============================] - 157s 173ms/step - loss: 0.5120 - accuracy: 0.8328 - val_loss: 0.6386 - val_accuracy: 0.7896\n",
      "Epoch 3/100\n",
      "912/912 [==============================] - 157s 173ms/step - loss: 0.2164 - accuracy: 0.9327 - val_loss: 0.7411 - val_accuracy: 0.7871\n",
      "Epoch 4/100\n",
      "912/912 [==============================] - 161s 176ms/step - loss: 0.1187 - accuracy: 0.9654 - val_loss: 0.8115 - val_accuracy: 0.7874\n",
      "Epoch 5/100\n",
      "912/912 [==============================] - 159s 175ms/step - loss: 0.0979 - accuracy: 0.9711 - val_loss: 0.8318 - val_accuracy: 0.8088\n",
      "Epoch 6/100\n",
      "912/912 [==============================] - 161s 176ms/step - loss: 0.0741 - accuracy: 0.9791 - val_loss: 0.9132 - val_accuracy: 0.7985\n",
      "Epoch 7/100\n",
      "912/912 [==============================] - 150s 164ms/step - loss: 0.0647 - accuracy: 0.9812 - val_loss: 1.0194 - val_accuracy: 0.7917\n",
      "Epoch 8/100\n",
      "912/912 [==============================] - 151s 165ms/step - loss: 0.0587 - accuracy: 0.9832 - val_loss: 1.1151 - val_accuracy: 0.7825\n",
      "Epoch 9/100\n",
      "912/912 [==============================] - 150s 164ms/step - loss: 0.0624 - accuracy: 0.9825 - val_loss: 1.0674 - val_accuracy: 0.8054\n",
      "Epoch 10/100\n",
      "912/912 [==============================] - 152s 167ms/step - loss: 0.0431 - accuracy: 0.9878 - val_loss: 1.0859 - val_accuracy: 0.8085\n",
      "Epoch 11/100\n",
      "912/912 [==============================] - 155s 170ms/step - loss: 0.0436 - accuracy: 0.9879 - val_loss: 1.1328 - val_accuracy: 0.8032\n",
      "Epoch 12/100\n",
      "912/912 [==============================] - 155s 170ms/step - loss: 0.0434 - accuracy: 0.9874 - val_loss: 1.3233 - val_accuracy: 0.7993\n",
      "Epoch 13/100\n",
      "912/912 [==============================] - 154s 169ms/step - loss: 0.0465 - accuracy: 0.9869 - val_loss: 1.2489 - val_accuracy: 0.8106\n",
      "Epoch 14/100\n",
      "912/912 [==============================] - 154s 169ms/step - loss: 0.0351 - accuracy: 0.9903 - val_loss: 1.4258 - val_accuracy: 0.7885\n",
      "Epoch 15/100\n",
      "912/912 [==============================] - 154s 169ms/step - loss: 0.0350 - accuracy: 0.9897 - val_loss: 1.5200 - val_accuracy: 0.7851\n",
      "Epoch 16/100\n",
      "912/912 [==============================] - 154s 169ms/step - loss: 0.0330 - accuracy: 0.9898 - val_loss: 1.4237 - val_accuracy: 0.8129\n",
      "Epoch 17/100\n",
      "912/912 [==============================] - 154s 169ms/step - loss: 0.0344 - accuracy: 0.9899 - val_loss: 1.4062 - val_accuracy: 0.8136\n",
      "Epoch 18/100\n",
      "912/912 [==============================] - 154s 169ms/step - loss: 0.0350 - accuracy: 0.9898 - val_loss: 1.5096 - val_accuracy: 0.8010\n",
      "Epoch 19/100\n",
      "912/912 [==============================] - 154s 169ms/step - loss: 0.0283 - accuracy: 0.9919 - val_loss: 1.5907 - val_accuracy: 0.7991\n",
      "Epoch 20/100\n",
      "912/912 [==============================] - 154s 169ms/step - loss: 0.0344 - accuracy: 0.9897 - val_loss: 1.4407 - val_accuracy: 0.7982\n",
      "Epoch 21/100\n",
      "912/912 [==============================] - 155s 170ms/step - loss: 0.0380 - accuracy: 0.9894 - val_loss: 1.4381 - val_accuracy: 0.8099\n",
      "Epoch 22/100\n",
      "912/912 [==============================] - 153s 168ms/step - loss: 0.0247 - accuracy: 0.9925 - val_loss: 1.7377 - val_accuracy: 0.7880\n",
      "Epoch 23/100\n",
      "912/912 [==============================] - 154s 169ms/step - loss: 0.0344 - accuracy: 0.9902 - val_loss: 1.5292 - val_accuracy: 0.7984\n",
      "Epoch 24/100\n",
      "912/912 [==============================] - 156s 171ms/step - loss: 0.0220 - accuracy: 0.9935 - val_loss: 1.5358 - val_accuracy: 0.8141\n",
      "Epoch 25/100\n",
      "912/912 [==============================] - 156s 171ms/step - loss: 0.0331 - accuracy: 0.9913 - val_loss: 1.7226 - val_accuracy: 0.7910\n",
      "Epoch 26/100\n",
      "912/912 [==============================] - 156s 171ms/step - loss: 0.0304 - accuracy: 0.9911 - val_loss: 1.8504 - val_accuracy: 0.7956\n",
      "Epoch 27/100\n",
      "912/912 [==============================] - 156s 171ms/step - loss: 0.0225 - accuracy: 0.9933 - val_loss: 1.9989 - val_accuracy: 0.7914\n",
      "Epoch 28/100\n",
      "912/912 [==============================] - 156s 171ms/step - loss: 0.0347 - accuracy: 0.9910 - val_loss: 1.8153 - val_accuracy: 0.7973\n",
      "Epoch 29/100\n",
      "912/912 [==============================] - 156s 171ms/step - loss: 0.0234 - accuracy: 0.9927 - val_loss: 1.7972 - val_accuracy: 0.8088\n",
      "Epoch 30/100\n",
      "912/912 [==============================] - 157s 172ms/step - loss: 0.0185 - accuracy: 0.9949 - val_loss: 1.8936 - val_accuracy: 0.7999\n",
      "Epoch 31/100\n",
      "912/912 [==============================] - 156s 171ms/step - loss: 0.0381 - accuracy: 0.9899 - val_loss: 1.8364 - val_accuracy: 0.7889\n",
      "Epoch 32/100\n",
      "912/912 [==============================] - 156s 171ms/step - loss: 0.0195 - accuracy: 0.9945 - val_loss: 1.9456 - val_accuracy: 0.7967\n",
      "Epoch 33/100\n",
      "912/912 [==============================] - 157s 172ms/step - loss: 0.0259 - accuracy: 0.9932 - val_loss: 2.0769 - val_accuracy: 0.7984\n",
      "Epoch 34/100\n",
      "912/912 [==============================] - 156s 171ms/step - loss: 0.0188 - accuracy: 0.9943 - val_loss: 1.8455 - val_accuracy: 0.8058\n",
      "Epoch 35/100\n",
      "912/912 [==============================] - 156s 171ms/step - loss: 0.0198 - accuracy: 0.9941 - val_loss: 2.0377 - val_accuracy: 0.8046\n",
      "Epoch 36/100\n",
      "912/912 [==============================] - 156s 171ms/step - loss: 0.0226 - accuracy: 0.9938 - val_loss: 1.8853 - val_accuracy: 0.8033\n",
      "Epoch 37/100\n",
      "912/912 [==============================] - 156s 171ms/step - loss: 0.0269 - accuracy: 0.9924 - val_loss: 2.2672 - val_accuracy: 0.7988\n",
      "Epoch 37: early stopping\n",
      "228/228 [==============================] - 9s 38ms/step - loss: 2.2672 - accuracy: 0.7988\n",
      "Test loss: 2.267167091369629\n",
      "Test accuracy: 0.7987938523292542\n"
     ]
    }
   ],
   "source": [
    "# build our CNN model\n",
    "model = Sequential()\n",
    "model.add(Conv2D(32, (3, 3), padding='valid',\n",
    "                 input_shape=X_train.shape[1:]))\n",
    "model.add(Activation('relu'))\n",
    "# model.add(Conv2D(128, (3, 3)))\n",
    "# model.add(Activation('relu'))\n",
    "model.add(MaxPooling2D(pool_size=(2, 2)))\n",
    "# model.add(Dropout(0.3))\n",
    "\n",
    "model.add(Conv2D(32, (3, 3), padding='valid'))\n",
    "model.add(Activation('relu'))\n",
    "# model.add(Conv2D(64, (3, 3)))\n",
    "# model.add(Activation('relu'))\n",
    "model.add(MaxPooling2D(pool_size=(2, 2)))\n",
    "# model.add(Dropout(0.3))\n",
    "\n",
    "model.add(Flatten())\n",
    "model.add(Dense(512))\n",
    "model.add(Activation('relu'))\n",
    "# model.add(Dropout(0.5))\n",
    "model.add(Dense(num_classes))\n",
    "model.add(Activation('softmax'))\n",
    "\n",
    "print(model.summary())\n",
    "\n",
    "# initiate Adam optimizer\n",
    "opt = keras.optimizers.Adam()\n",
    "\n",
    "# Let's train the model using Adam\n",
    "model.compile(loss='categorical_crossentropy',\n",
    "              optimizer=opt,\n",
    "              metrics=['accuracy'])\n",
    "\n",
    "\n",
    "if not os.path.isdir(save_dir):\n",
    "    os.makedirs(save_dir)\n",
    "model_path = os.path.join(save_dir, model_name)\n",
    "checkpoint = ModelCheckpoint(model_path, monitor='val_loss', save_best_only=True, verbose=1)\n",
    "\n",
    "# earlystop\n",
    "earlystop = EarlyStopping(monitor='val_accuracy', patience=13, verbose=1)\n",
    "\n",
    "# Fit the model on the batches generated by datagen.flow().\n",
    "# model_history = model.fit_generator(datagen.flow(x_train, y_train,\n",
    "#                                  batch_size=batch_size),\n",
    "#                     epochs=epochs,\n",
    "#                     validation_data=(x_test, y_test),\n",
    "#                     workers=4,\n",
    "#                     callbacks=[earlystop])\n",
    "\n",
    "model_history = model.fit(X_train, \n",
    "                          y_train,\n",
    "                          batch_size=batch_size,\n",
    "                    epochs=epochs,\n",
    "                    validation_data=(X_test, y_test),\n",
    "                    workers=1,\n",
    "                    callbacks=[earlystop])\n",
    "\n",
    "# loading our save model\n",
    "# print(\"Loading trained model\")\n",
    "# model = load_model(model_path)\n",
    "\n",
    "# Score trained model.\n",
    "scores = model.evaluate(X_test, y_test, verbose=1)\n",
    "print('Test loss:', scores[0])\n",
    "print('Test accuracy:', scores[1])"
   ]
  },
  {
   "cell_type": "code",
   "execution_count": 15,
   "id": "1e66cc2a",
   "metadata": {},
   "outputs": [
    {
     "data": {
      "image/png": "[encoded data removed]",
      "text/plain": [
       "<Figure size 432x288 with 1 Axes>"
      ]
     },
     "metadata": {
      "needs_background": "light"
     },
     "output_type": "display_data"
    }
   ],
   "source": [
    "training_loss = model_history.history['loss']\n",
    "val_loss = model_history.history['val_loss']\n",
    "\n",
    "plt.plot(training_loss, label=\"training_loss\")\n",
    "plt.plot(val_loss, label=\"validation_loss\")\n",
    "plt.xlabel(\"Epochs\")\n",
    "plt.ylabel(\"Loss\")\n",
    "plt.title(\"Learning Curve\")\n",
    "plt.legend(loc='best')\n",
    "plt.show()"
   ]
  },
  {
   "cell_type": "code",
   "execution_count": 16,
   "id": "bfba6729",
   "metadata": {},
   "outputs": [
    {
     "data": {
      "image/png": "[encoded data removed]",
      "text/plain": [
       "<Figure size 432x288 with 1 Axes>"
      ]
     },
     "metadata": {
      "needs_background": "light"
     },
     "output_type": "display_data"
    }
   ],
   "source": [
    "training_accuracy = model_history.history['accuracy']\n",
    "val_accuracy = model_history.history['val_accuracy']\n",
    "\n",
    "plt.plot(training_accuracy, label=\"training_accuracy\")\n",
    "plt.plot(val_accuracy, label=\"val_accuracy\")\n",
    "plt.xlabel(\"Epochs\")\n",
    "plt.ylabel(\"Loss\")\n",
    "plt.title(\"Learning Curve\")\n",
    "plt.legend(loc='best')\n",
    "plt.show()"
   ]
  },
  {
   "cell_type": "code",
   "execution_count": null,
   "id": "2d8d0071",
   "metadata": {},
   "outputs": [],
   "source": [
    "def show_summary_stats(history):\n",
    "    # List all data in history\n",
    "    print(history.history.keys())\n",
    "\n",
    "    # Summarize history for accuracy\n",
    "    plt.plot(history.history['accuracy'])\n",
    "    plt.plot(history.history['val_accuracy'])\n",
    "    plt.title('model accuracy')\n",
    "    plt.ylabel('accuracy')\n",
    "    plt.xlabel('epoch')\n",
    "    plt.legend(['train', 'test'], loc='upper left')\n",
    "    plt.show()\n",
    "\n",
    "    # Summarize history for loss\n",
    "    plt.plot(history.history['loss'])\n",
    "    plt.plot(history.history['val_loss'])\n",
    "    plt.title('model loss')\n",
    "    plt.ylabel('loss')\n",
    "    plt.xlabel('epoch')\n",
    "    plt.legend(['train', 'test'], loc='upper left')\n",
    "    plt.show()"
   ]
  },
  {
   "cell_type": "code",
   "execution_count": null,
   "id": "20998384",
   "metadata": {},
   "outputs": [],
   "source": [
    "show_summary_stats(history)"
   ]
  }
 ],
 "metadata": {
  "kernelspec": {
   "display_name": "Python 3 (ipykernel)",
   "language": "python",
   "name": "python3"
  },
  "language_info": {
   "codemirror_mode": {
    "name": "ipython",
    "version": 3
   },
   "file_extension": ".py",
   "mimetype": "text/x-python",
   "name": "python",
   "nbconvert_exporter": "python",
   "pygments_lexer": "ipython3",
   "version": "3.9.12"
  }
 },
 "nbformat": 4,
 "nbformat_minor": 5
}
