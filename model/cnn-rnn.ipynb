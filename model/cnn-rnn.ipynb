{
 "cells": [
  {
   "cell_type": "code",
   "execution_count": 1,
   "id": "19c74892",
   "metadata": {},
   "outputs": [],
   "source": [
    "import librosa\n",
    "import numpy as np\n",
    "from IPython.display import Audio  #播放套件\n",
    "import matplotlib.pyplot as plt \n",
    "import librosa.display  #libroso 繪圖\n",
    "import time\n",
    "import os, re\n",
    "\n",
    "from sklearn.model_selection import train_test_split\n",
    "\n",
    "import keras\n",
    "\n",
    "from keras.models import Sequential, load_model\n",
    "\n",
    "import matplotlib.pyplot as plt\n",
    "\n",
    "from keras.models import Sequential, Model\n",
    "from keras.layers import Input, Dense, Bidirectional, LSTM, Dropout, Activation, GRU\n",
    "from keras.layers import Conv2D, concatenate, MaxPooling2D, Flatten, Embedding, Lambda\n",
    "\n",
    "from keras.callbacks import ModelCheckpoint, TensorBoard, ReduceLROnPlateau, EarlyStopping\n",
    "from keras import backend as K\n",
    "from keras.utils import np_utils\n",
    "from keras.optimizers import Adam, RMSprop\n",
    "\n",
    "from keras import regularizers"
   ]
  },
  {
   "cell_type": "code",
   "execution_count": 31,
   "id": "53c14f13",
   "metadata": {},
   "outputs": [
    {
     "name": "stdout",
     "output_type": "stream",
     "text": [
      "['arr_0', 'arr_1']\n",
      "(36480, 128, 130) (36480,)\n"
     ]
    }
   ],
   "source": [
    "npzfile = np.load('df_zero_arr.npz')\n",
    "print(npzfile.files)\n",
    "X = npzfile['arr_0']\n",
    "y = npzfile['arr_1']\n",
    "print(X.shape, y.shape)"
   ]
  },
  {
   "cell_type": "code",
   "execution_count": 32,
   "id": "deff2421",
   "metadata": {
    "scrolled": true
   },
   "outputs": [
    {
     "data": {
      "text/plain": [
       "(36480, 10)"
      ]
     },
     "execution_count": 32,
     "metadata": {},
     "output_type": "execute_result"
    }
   ],
   "source": [
    "y_onehot = np.eye(10)[y]\n",
    "y_onehot.shape"
   ]
  },
  {
   "cell_type": "code",
   "execution_count": 33,
   "id": "c2d2406c",
   "metadata": {},
   "outputs": [
    {
     "data": {
      "text/plain": [
       "(36480, 130, 128)"
      ]
     },
     "execution_count": 33,
     "metadata": {},
     "output_type": "execute_result"
    }
   ],
   "source": [
    "X = X.swapaxes(1,2)\n",
    "X.shape"
   ]
  },
  {
   "cell_type": "code",
   "execution_count": 34,
   "id": "7fb96289",
   "metadata": {},
   "outputs": [
    {
     "data": {
      "text/plain": [
       "(36480, 130, 128, 1)"
      ]
     },
     "execution_count": 34,
     "metadata": {},
     "output_type": "execute_result"
    }
   ],
   "source": [
    "X = X.reshape(36480, 130, 128, 1)\n",
    "X.shape"
   ]
  },
  {
   "cell_type": "code",
   "execution_count": 35,
   "id": "0843ead6",
   "metadata": {},
   "outputs": [
    {
     "data": {
      "text/plain": [
       "(29184, 10)"
      ]
     },
     "execution_count": 35,
     "metadata": {},
     "output_type": "execute_result"
    }
   ],
   "source": [
    "X_train, X_test, y_train, y_test = train_test_split(X, y_onehot, test_size=0.2, random_state=42)\n",
    "y_train.shape"
   ]
  },
  {
   "cell_type": "markdown",
   "id": "4110d958",
   "metadata": {},
   "source": [
    "# cnn-rnn"
   ]
  },
  {
   "cell_type": "code",
   "execution_count": 7,
   "id": "b2b81efa",
   "metadata": {},
   "outputs": [],
   "source": [
    "num_classes = 10\n",
    "n_features = X_train.shape[2]\n",
    "n_time = X_train.shape[1]\n",
    "nb_filters1=64 \n",
    "nb_filters2=64 \n",
    "nb_filters3=64\n",
    "nb_filters4=64\n",
    "nb_filters5=64\n",
    "ksize = (3,3)\n",
    "pool_size_1= (2,2) \n",
    "pool_size_2= (2,2)\n",
    "pool_size_3 = (2,2)\n",
    "# dropout_prob = 0.3\n",
    "dense_size1 = 128\n",
    "lstm_count = 64\n",
    "num_units = 120\n",
    "BATCH_SIZE = 64\n",
    "EPOCH_COUNT = 200\n",
    "L2_regularization = 0.001\n",
    "\n",
    "def conv_recurrent_model_build(model_input):\n",
    "    print('Building model...')\n",
    "    layer = model_input\n",
    "    \n",
    "    ### Convolutional blocks\n",
    "    conv_1 = Conv2D(filters = nb_filters1, kernel_size = ksize, strides=1,\n",
    "                      padding= 'valid', activation='relu', name='conv_1')(layer)\n",
    "    pool_1 = MaxPooling2D(pool_size_1)(conv_1)\n",
    "    \n",
    "    drop_1 = Dropout(0.3)(pool_1)\n",
    "    \n",
    "    conv_2 = Conv2D(filters = nb_filters2, kernel_size = ksize, strides=1,\n",
    "                      padding= 'valid', activation='relu', name='conv_2')(drop_1)\n",
    "    pool_2 = MaxPooling2D(pool_size_1)(conv_2)\n",
    "    \n",
    "    drop_2 = Dropout(0.3)(pool_2)\n",
    "\n",
    "    conv_3 = Conv2D(filters = nb_filters3, kernel_size = ksize, strides=1,\n",
    "                      padding= 'valid', activation='relu', name='conv_3')(drop_2)\n",
    "    pool_3 = MaxPooling2D(pool_size_1)(conv_3)\n",
    "    \n",
    "    drop_3 = Dropout(0.3)(pool_3)\n",
    "    \n",
    "    conv_4 = Conv2D(filters = nb_filters4, kernel_size = ksize, strides=1,\n",
    "                      padding= 'valid', activation='relu', name='conv_4')(drop_3)\n",
    "    pool_4 = MaxPooling2D(pool_size_2)(conv_4)\n",
    "    \n",
    "    drop_4 = Dropout(0.3)(pool_4)\n",
    "    \n",
    "    conv_5 = Conv2D(filters = nb_filters5, kernel_size = ksize, strides=1,\n",
    "                      padding= 'valid', activation='relu', name='conv_5')(drop_4)\n",
    "    pool_5 = MaxPooling2D(pool_size_2)(conv_5)\n",
    "    \n",
    "    drop_5 = Dropout(0.3)(pool_5)\n",
    "\n",
    "    flatten1 = Flatten()(drop_5)\n",
    "    ### Recurrent Block\n",
    "    \n",
    "    # Pooling layer\n",
    "    pool_lstm1 = MaxPooling2D(pool_size_3, name = 'pool_lstm')(layer)\n",
    "    \n",
    "    # Embedding layer\n",
    "\n",
    "    squeezed = Lambda(lambda x: K.squeeze(x, axis= -1))(pool_lstm1)\n",
    "#     flatten2 = K.squeeze(pool_lstm1, axis = -1)\n",
    "#     dense1 = Dense(dense_size1)(flatten)\n",
    "    \n",
    "    # Bidirectional GRU\n",
    "    lstm = Bidirectional(GRU(lstm_count))(squeezed)  #default merge mode is concat\n",
    "    \n",
    "    # Concat Output\n",
    "    concat = concatenate([flatten1, lstm], axis=-1, name ='concat')\n",
    "    \n",
    "    ## Softmax Output\n",
    "    output = Dense(num_classes, activation = 'softmax', name='preds')(concat)\n",
    "    \n",
    "    model_output = output\n",
    "    model = Model(model_input, model_output)\n",
    "    \n",
    "    opt = Adam(lr=0.001)\n",
    "#     opt = RMSprop(lr=0.0005)  # Optimizer\n",
    "    model.compile(\n",
    "            loss='categorical_crossentropy',\n",
    "            optimizer=opt,\n",
    "            metrics=['accuracy']\n",
    "        )\n",
    "    \n",
    "    print(model.summary())\n",
    "    return model"
   ]
  },
  {
   "cell_type": "code",
   "execution_count": 8,
   "id": "879e02de",
   "metadata": {},
   "outputs": [],
   "source": [
    "def train_model(X_train, y_train, X_test, y_test):\n",
    "    \n",
    "    n_frequency = 128\n",
    "    n_frames = 130\n",
    "    \n",
    "    input_shape = (n_frames, n_frequency, 1)\n",
    "    model_input = Input(input_shape, name='input')\n",
    "    \n",
    "    model = conv_recurrent_model_build(model_input)\n",
    "    \n",
    "#     tb_callback = TensorBoard(log_dir='./logs/4', histogram_freq=1, batch_size=32, write_graph=True, write_grads=False,\n",
    "#                               write_images=False, embeddings_freq=0, embeddings_layer_names=None,\n",
    "#                               embeddings_metadata=None)\n",
    "#     checkpoint_callback = ModelCheckpoint('./models/parallel/weights.best.h5', monitor='val_accuracy', verbose=1,\n",
    "#                                           save_best_only=True, mode='max')\n",
    "    \n",
    "    earlystop = EarlyStopping(monitor='val_loss', patience=13, verbose=1, mode='min')\n",
    "    \n",
    "    reducelr_callback = ReduceLROnPlateau(\n",
    "                monitor='val_loss', factor=0.5, patience=5, min_delta=0.01,\n",
    "                verbose=1, mode='min'\n",
    "            )\n",
    "    callbacks_list = [earlystop, reducelr_callback]\n",
    "    \n",
    "\n",
    "    # Fit the model and get training history.\n",
    "    print('Training...')\n",
    "    history = model.fit(X_train, y_train, batch_size=BATCH_SIZE, epochs=EPOCH_COUNT,\n",
    "                        validation_data=(X_test, y_test), verbose=1, callbacks=callbacks_list)\n",
    "\n",
    "    return model, history"
   ]
  },
  {
   "cell_type": "code",
   "execution_count": 9,
   "id": "b24a80bd",
   "metadata": {},
   "outputs": [],
   "source": [
    "def show_summary_stats(history):\n",
    "    # List all data in history\n",
    "    print(history.history.keys())\n",
    "\n",
    "    # Summarize history for accuracy\n",
    "    plt.plot(history.history['accuracy'])\n",
    "    plt.plot(history.history['val_accuracy'])\n",
    "    plt.title('model accuracy')\n",
    "    plt.ylabel('accuracy')\n",
    "    plt.xlabel('epoch')\n",
    "    plt.legend(['train', 'test'], loc='upper left')\n",
    "    plt.show()\n",
    "\n",
    "    # Summarize history for loss\n",
    "    plt.plot(history.history['loss'])\n",
    "    plt.plot(history.history['val_loss'])\n",
    "    plt.title('model loss')\n",
    "    plt.ylabel('loss')\n",
    "    plt.xlabel('epoch')\n",
    "    plt.legend(['train', 'test'], loc='upper left')\n",
    "    plt.show()"
   ]
  },
  {
   "cell_type": "code",
   "execution_count": 10,
   "id": "990b948d",
   "metadata": {
    "scrolled": true
   },
   "outputs": [
    {
     "name": "stdout",
     "output_type": "stream",
     "text": [
      "Building model...\n",
      "Model: \"model\"\n",
      "__________________________________________________________________________________________________\n",
      " Layer (type)                   Output Shape         Param #     Connected to                     \n",
      "==================================================================================================\n",
      " input (InputLayer)             [(None, 130, 128, 1  0           []                               \n",
      "                                )]                                                                \n",
      "                                                                                                  \n",
      " conv_1 (Conv2D)                (None, 128, 126, 64  640         ['input[0][0]']                  \n",
      "                                )                                                                 \n",
      "                                                                                                  \n",
      " max_pooling2d (MaxPooling2D)   (None, 64, 63, 64)   0           ['conv_1[0][0]']                 \n",
      "                                                                                                  \n",
      " dropout (Dropout)              (None, 64, 63, 64)   0           ['max_pooling2d[0][0]']          \n",
      "                                                                                                  \n",
      " conv_2 (Conv2D)                (None, 62, 61, 64)   36928       ['dropout[0][0]']                \n",
      "                                                                                                  \n",
      " max_pooling2d_1 (MaxPooling2D)  (None, 31, 30, 64)  0           ['conv_2[0][0]']                 \n",
      "                                                                                                  \n",
      " dropout_1 (Dropout)            (None, 31, 30, 64)   0           ['max_pooling2d_1[0][0]']        \n",
      "                                                                                                  \n",
      " conv_3 (Conv2D)                (None, 29, 28, 64)   36928       ['dropout_1[0][0]']              \n",
      "                                                                                                  \n",
      " max_pooling2d_2 (MaxPooling2D)  (None, 14, 14, 64)  0           ['conv_3[0][0]']                 \n",
      "                                                                                                  \n",
      " dropout_2 (Dropout)            (None, 14, 14, 64)   0           ['max_pooling2d_2[0][0]']        \n",
      "                                                                                                  \n",
      " conv_4 (Conv2D)                (None, 12, 12, 64)   36928       ['dropout_2[0][0]']              \n",
      "                                                                                                  \n",
      " max_pooling2d_3 (MaxPooling2D)  (None, 6, 6, 64)    0           ['conv_4[0][0]']                 \n",
      "                                                                                                  \n",
      " dropout_3 (Dropout)            (None, 6, 6, 64)     0           ['max_pooling2d_3[0][0]']        \n",
      "                                                                                                  \n",
      " conv_5 (Conv2D)                (None, 4, 4, 64)     36928       ['dropout_3[0][0]']              \n",
      "                                                                                                  \n",
      " max_pooling2d_4 (MaxPooling2D)  (None, 2, 2, 64)    0           ['conv_5[0][0]']                 \n",
      "                                                                                                  \n",
      " pool_lstm (MaxPooling2D)       (None, 65, 64, 1)    0           ['input[0][0]']                  \n",
      "                                                                                                  \n",
      " dropout_4 (Dropout)            (None, 2, 2, 64)     0           ['max_pooling2d_4[0][0]']        \n",
      "                                                                                                  \n",
      " lambda (Lambda)                (None, 65, 64)       0           ['pool_lstm[0][0]']              \n",
      "                                                                                                  \n",
      " flatten (Flatten)              (None, 256)          0           ['dropout_4[0][0]']              \n",
      "                                                                                                  \n",
      " bidirectional (Bidirectional)  (None, 128)          49920       ['lambda[0][0]']                 \n",
      "                                                                                                  \n",
      " concat (Concatenate)           (None, 384)          0           ['flatten[0][0]',                \n",
      "                                                                  'bidirectional[0][0]']          \n",
      "                                                                                                  \n",
      " preds (Dense)                  (None, 10)           3850        ['concat[0][0]']                 \n",
      "                                                                                                  \n",
      "==================================================================================================\n",
      "Total params: 202,122\n",
      "Trainable params: 202,122\n",
      "Non-trainable params: 0\n",
      "__________________________________________________________________________________________________\n"
     ]
    },
    {
     "name": "stderr",
     "output_type": "stream",
     "text": [
      "C:\\Users\\User\\anaconda3\\lib\\site-packages\\keras\\optimizers\\optimizer_v2\\adam.py:114: UserWarning: The `lr` argument is deprecated, use `learning_rate` instead.\n",
      "  super().__init__(name, **kwargs)\n"
     ]
    },
    {
     "name": "stdout",
     "output_type": "stream",
     "text": [
      "None\n",
      "Training...\n",
      "Epoch 1/200\n",
      "456/456 [==============================] - 371s 805ms/step - loss: 1.3560 - accuracy: 0.5277 - val_loss: 1.0491 - val_accuracy: 0.6404 - lr: 0.0010\n",
      "Epoch 2/200\n",
      "456/456 [==============================] - 366s 804ms/step - loss: 0.8855 - accuracy: 0.6950 - val_loss: 0.7802 - val_accuracy: 0.7323 - lr: 0.0010\n",
      "Epoch 3/200\n",
      "456/456 [==============================] - 362s 794ms/step - loss: 0.7197 - accuracy: 0.7533 - val_loss: 0.6628 - val_accuracy: 0.7778 - lr: 0.0010\n",
      "Epoch 4/200\n",
      "456/456 [==============================] - 363s 797ms/step - loss: 0.6204 - accuracy: 0.7879 - val_loss: 0.5907 - val_accuracy: 0.7969 - lr: 0.0010\n",
      "Epoch 5/200\n",
      "456/456 [==============================] - 362s 795ms/step - loss: 0.5400 - accuracy: 0.8176 - val_loss: 0.5245 - val_accuracy: 0.8220 - lr: 0.0010\n",
      "Epoch 6/200\n",
      "456/456 [==============================] - 362s 795ms/step - loss: 0.4802 - accuracy: 0.8371 - val_loss: 0.4723 - val_accuracy: 0.8380 - lr: 0.0010\n",
      "Epoch 7/200\n",
      "456/456 [==============================] - 363s 797ms/step - loss: 0.4334 - accuracy: 0.8527 - val_loss: 0.4472 - val_accuracy: 0.8503 - lr: 0.0010\n",
      "Epoch 8/200\n",
      "456/456 [==============================] - 363s 795ms/step - loss: 0.3868 - accuracy: 0.8724 - val_loss: 0.4631 - val_accuracy: 0.8461 - lr: 0.0010\n",
      "Epoch 9/200\n",
      "456/456 [==============================] - 363s 796ms/step - loss: 0.3567 - accuracy: 0.8831 - val_loss: 0.4077 - val_accuracy: 0.8631 - lr: 0.0010\n",
      "Epoch 10/200\n",
      "456/456 [==============================] - 362s 794ms/step - loss: 0.3232 - accuracy: 0.8929 - val_loss: 0.3856 - val_accuracy: 0.8701 - lr: 0.0010\n",
      "Epoch 11/200\n",
      "456/456 [==============================] - 363s 796ms/step - loss: 0.2975 - accuracy: 0.9012 - val_loss: 0.3570 - val_accuracy: 0.8845 - lr: 0.0010\n",
      "Epoch 12/200\n",
      "456/456 [==============================] - 363s 796ms/step - loss: 0.2764 - accuracy: 0.9091 - val_loss: 0.3539 - val_accuracy: 0.8835 - lr: 0.0010\n",
      "Epoch 13/200\n",
      "456/456 [==============================] - 363s 797ms/step - loss: 0.2520 - accuracy: 0.9179 - val_loss: 0.3804 - val_accuracy: 0.8775 - lr: 0.0010\n",
      "Epoch 14/200\n",
      "456/456 [==============================] - 363s 796ms/step - loss: 0.2378 - accuracy: 0.9228 - val_loss: 0.3465 - val_accuracy: 0.8851 - lr: 0.0010\n",
      "Epoch 15/200\n",
      "456/456 [==============================] - 362s 794ms/step - loss: 0.2248 - accuracy: 0.9246 - val_loss: 0.3711 - val_accuracy: 0.8799 - lr: 0.0010\n",
      "Epoch 16/200\n",
      "456/456 [==============================] - 362s 794ms/step - loss: 0.2106 - accuracy: 0.9307 - val_loss: 0.3822 - val_accuracy: 0.8738 - lr: 0.0010\n",
      "Epoch 17/200\n",
      "456/456 [==============================] - 360s 790ms/step - loss: 0.1877 - accuracy: 0.9395 - val_loss: 0.3817 - val_accuracy: 0.8769 - lr: 0.0010\n",
      "Epoch 18/200\n",
      "456/456 [==============================] - 360s 790ms/step - loss: 0.1755 - accuracy: 0.9425 - val_loss: 0.3717 - val_accuracy: 0.8814 - lr: 0.0010\n",
      "Epoch 19/200\n",
      "456/456 [==============================] - ETA: 0s - loss: 0.1735 - accuracy: 0.9427\n",
      "Epoch 19: ReduceLROnPlateau reducing learning rate to 0.0005000000237487257.\n",
      "456/456 [==============================] - 361s 793ms/step - loss: 0.1735 - accuracy: 0.9427 - val_loss: 0.3378 - val_accuracy: 0.8928 - lr: 0.0010\n",
      "Epoch 20/200\n",
      "456/456 [==============================] - 363s 797ms/step - loss: 0.1162 - accuracy: 0.9654 - val_loss: 0.3139 - val_accuracy: 0.9031 - lr: 5.0000e-04\n",
      "Epoch 21/200\n",
      "456/456 [==============================] - 364s 798ms/step - loss: 0.1094 - accuracy: 0.9658 - val_loss: 0.3166 - val_accuracy: 0.9035 - lr: 5.0000e-04\n",
      "Epoch 22/200\n",
      "456/456 [==============================] - 362s 794ms/step - loss: 0.1038 - accuracy: 0.9679 - val_loss: 0.3168 - val_accuracy: 0.9032 - lr: 5.0000e-04\n",
      "Epoch 23/200\n",
      "456/456 [==============================] - 363s 795ms/step - loss: 0.1010 - accuracy: 0.9681 - val_loss: 0.3187 - val_accuracy: 0.9043 - lr: 5.0000e-04\n",
      "Epoch 24/200\n",
      "456/456 [==============================] - 363s 795ms/step - loss: 0.0964 - accuracy: 0.9706 - val_loss: 0.3222 - val_accuracy: 0.9035 - lr: 5.0000e-04\n",
      "Epoch 25/200\n",
      "456/456 [==============================] - ETA: 0s - loss: 0.0882 - accuracy: 0.9730\n",
      "Epoch 25: ReduceLROnPlateau reducing learning rate to 0.0002500000118743628.\n",
      "456/456 [==============================] - 362s 795ms/step - loss: 0.0882 - accuracy: 0.9730 - val_loss: 0.3424 - val_accuracy: 0.8980 - lr: 5.0000e-04\n",
      "Epoch 26/200\n",
      "456/456 [==============================] - 363s 797ms/step - loss: 0.0708 - accuracy: 0.9804 - val_loss: 0.3104 - val_accuracy: 0.9076 - lr: 2.5000e-04\n",
      "Epoch 27/200\n",
      "456/456 [==============================] - 362s 795ms/step - loss: 0.0660 - accuracy: 0.9812 - val_loss: 0.3139 - val_accuracy: 0.9086 - lr: 2.5000e-04\n",
      "Epoch 28/200\n",
      "456/456 [==============================] - 363s 795ms/step - loss: 0.0618 - accuracy: 0.9827 - val_loss: 0.3247 - val_accuracy: 0.9089 - lr: 2.5000e-04\n",
      "Epoch 29/200\n",
      "456/456 [==============================] - 363s 796ms/step - loss: 0.0614 - accuracy: 0.9819 - val_loss: 0.3230 - val_accuracy: 0.9076 - lr: 2.5000e-04\n",
      "Epoch 30/200\n",
      "456/456 [==============================] - ETA: 0s - loss: 0.0598 - accuracy: 0.9830\n",
      "Epoch 30: ReduceLROnPlateau reducing learning rate to 0.0001250000059371814.\n",
      "456/456 [==============================] - 363s 797ms/step - loss: 0.0598 - accuracy: 0.9830 - val_loss: 0.3243 - val_accuracy: 0.9060 - lr: 2.5000e-04\n",
      "Epoch 31/200\n",
      "456/456 [==============================] - 364s 799ms/step - loss: 0.0507 - accuracy: 0.9859 - val_loss: 0.3182 - val_accuracy: 0.9080 - lr: 1.2500e-04\n",
      "Epoch 32/200\n",
      "456/456 [==============================] - 364s 798ms/step - loss: 0.0483 - accuracy: 0.9875 - val_loss: 0.3203 - val_accuracy: 0.9093 - lr: 1.2500e-04\n",
      "Epoch 33/200\n",
      "456/456 [==============================] - 364s 798ms/step - loss: 0.0466 - accuracy: 0.9875 - val_loss: 0.3276 - val_accuracy: 0.9098 - lr: 1.2500e-04\n",
      "Epoch 34/200\n",
      "456/456 [==============================] - 363s 796ms/step - loss: 0.0467 - accuracy: 0.9877 - val_loss: 0.3327 - val_accuracy: 0.9086 - lr: 1.2500e-04\n",
      "Epoch 35/200\n",
      "456/456 [==============================] - ETA: 0s - loss: 0.0449 - accuracy: 0.9882\n",
      "Epoch 35: ReduceLROnPlateau reducing learning rate to 6.25000029685907e-05.\n",
      "456/456 [==============================] - 365s 800ms/step - loss: 0.0449 - accuracy: 0.9882 - val_loss: 0.3287 - val_accuracy: 0.9091 - lr: 1.2500e-04\n",
      "Epoch 36/200\n",
      "456/456 [==============================] - 363s 797ms/step - loss: 0.0409 - accuracy: 0.9899 - val_loss: 0.3304 - val_accuracy: 0.9091 - lr: 6.2500e-05\n",
      "Epoch 37/200\n",
      "456/456 [==============================] - 363s 797ms/step - loss: 0.0412 - accuracy: 0.9887 - val_loss: 0.3280 - val_accuracy: 0.9082 - lr: 6.2500e-05\n",
      "Epoch 38/200\n",
      "456/456 [==============================] - 364s 798ms/step - loss: 0.0380 - accuracy: 0.9904 - val_loss: 0.3314 - val_accuracy: 0.9097 - lr: 6.2500e-05\n",
      "Epoch 39/200\n",
      "456/456 [==============================] - 365s 801ms/step - loss: 0.0380 - accuracy: 0.9900 - val_loss: 0.3319 - val_accuracy: 0.9091 - lr: 6.2500e-05\n",
      "Epoch 39: early stopping\n"
     ]
    }
   ],
   "source": [
    "model, history  = train_model(X_train, y_train, X_test, y_test)"
   ]
  },
  {
   "cell_type": "code",
   "execution_count": 11,
   "id": "52a4ab86",
   "metadata": {},
   "outputs": [],
   "source": [
    "model.save('./models/crnn/cnnrnnmodel-bs64-ks33.h5')"
   ]
  },
  {
   "cell_type": "code",
   "execution_count": 19,
   "id": "0742263f",
   "metadata": {},
   "outputs": [
    {
     "name": "stdout",
     "output_type": "stream",
     "text": [
      "dict_keys(['loss', 'accuracy', 'val_loss', 'val_accuracy', 'lr'])\n"
     ]
    },
    {
     "data": {
      "image/png": "[encoded data removed]",
      "text/plain": [
       "<Figure size 432x288 with 1 Axes>"
      ]
     },
     "metadata": {
      "needs_background": "light"
     },
     "output_type": "display_data"
    },
    {
     "data": {
      "image/png": "[encoded data removed]",
      "text/plain": [
       "<Figure size 432x288 with 1 Axes>"
      ]
     },
     "metadata": {
      "needs_background": "light"
     },
     "output_type": "display_data"
    }
   ],
   "source": [
    "show_summary_stats(history)"
   ]
  },
  {
   "cell_type": "code",
   "execution_count": 20,
   "id": "3796d025",
   "metadata": {},
   "outputs": [],
   "source": [
    "dict_genres = {'blues':0, 'classical':1, 'country':2, 'disco':3, \n",
    "           'hiphop':4,'jazz':5, 'metal' :6, 'pop': 7 ,'reggae': 8 ,'rock':9}"
   ]
  },
  {
   "cell_type": "code",
   "execution_count": 36,
   "id": "26b56b24",
   "metadata": {},
   "outputs": [
    {
     "data": {
      "text/plain": [
       "(7296,)"
      ]
     },
     "execution_count": 36,
     "metadata": {},
     "output_type": "execute_result"
    }
   ],
   "source": [
    "y_pred.shape"
   ]
  },
  {
   "cell_type": "code",
   "execution_count": 37,
   "id": "dd52be08",
   "metadata": {},
   "outputs": [
    {
     "data": {
      "text/plain": [
       "(7296,)"
      ]
     },
     "execution_count": 37,
     "metadata": {},
     "output_type": "execute_result"
    }
   ],
   "source": [
    "y_true.shape"
   ]
  },
  {
   "cell_type": "code",
   "execution_count": 38,
   "id": "1a7280d4",
   "metadata": {},
   "outputs": [
    {
     "data": {
      "text/plain": [
       "(7296, 130, 128, 1)"
      ]
     },
     "execution_count": 38,
     "metadata": {},
     "output_type": "execute_result"
    }
   ],
   "source": [
    "X_test.shape"
   ]
  },
  {
   "cell_type": "code",
   "execution_count": 39,
   "id": "27396592",
   "metadata": {},
   "outputs": [
    {
     "name": "stdout",
     "output_type": "stream",
     "text": [
      "228/228 [==============================] - 18s 78ms/step\n",
      "(7296,) (7296,)\n",
      "              precision    recall  f1-score   support\n",
      "\n",
      "       blues       0.89      0.89      0.89       901\n",
      "   classical       0.93      0.99      0.96       865\n",
      "     country       0.83      0.84      0.83       500\n",
      "       disco       0.95      0.98      0.96       714\n",
      "      hiphop       0.94      0.92      0.93       457\n",
      "        jazz       0.95      0.94      0.94       827\n",
      "       metal       0.93      0.92      0.92       981\n",
      "         pop       0.88      0.83      0.85       481\n",
      "      reggae       0.93      0.94      0.93       660\n",
      "        rock       0.85      0.83      0.84       910\n",
      "\n",
      "    accuracy                           0.91      7296\n",
      "   macro avg       0.91      0.91      0.91      7296\n",
      "weighted avg       0.91      0.91      0.91      7296\n",
      "\n"
     ]
    }
   ],
   "source": [
    "from sklearn.metrics import classification_report\n",
    "\n",
    "y_true = np.argmax(y_test, axis = 1)\n",
    "y_pred = model.predict(X_test)\n",
    "y_pred = np.argmax(y_pred, axis=1)\n",
    "labels = [0,1,2,3,4,5,6,7]\n",
    "target_names = dict_genres.keys()\n",
    "\n",
    "print(y_true.shape, y_pred.shape)\n",
    "print(classification_report(y_true, y_pred, target_names=target_names))"
   ]
  },
  {
   "cell_type": "code",
   "execution_count": 22,
   "id": "dcff68a8",
   "metadata": {},
   "outputs": [
    {
     "data": {
      "image/png": "[encoded data removed]",
      "text/plain": [
       "<Figure size 432x288 with 1 Axes>"
      ]
     },
     "metadata": {
      "needs_background": "light"
     },
     "output_type": "display_data"
    }
   ],
   "source": [
    "from sklearn.metrics import confusion_matrix\n",
    "import seaborn as sns\n",
    "\n",
    "\n",
    "mat = confusion_matrix(y_true, y_pred)\n",
    "sns.heatmap(mat.T, square=True, annot=True, fmt='d', cbar=False,\n",
    "            xticklabels=dict_genres.keys(),\n",
    "            yticklabels=dict_genres.keys())\n",
    "plt.xlabel('true label')\n",
    "plt.ylabel('predicted label');"
   ]
  },
  {
   "cell_type": "code",
   "execution_count": null,
   "id": "dc97c4b5",
   "metadata": {},
   "outputs": [],
   "source": []
  }
 ],
 "metadata": {
  "kernelspec": {
   "display_name": "Python 3 (ipykernel)",
   "language": "python",
   "name": "python3"
  },
  "language_info": {
   "codemirror_mode": {
    "name": "ipython",
    "version": 3
   },
   "file_extension": ".py",
   "mimetype": "text/x-python",
   "name": "python",
   "nbconvert_exporter": "python",
   "pygments_lexer": "ipython3",
   "version": "3.9.12"
  }
 },
 "nbformat": 4,
 "nbformat_minor": 5
}
